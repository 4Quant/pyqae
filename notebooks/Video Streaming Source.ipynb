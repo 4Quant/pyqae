{
 "cells": [
  {
   "cell_type": "code",
   "execution_count": 1,
   "metadata": {},
   "outputs": [],
   "source": [
    "import cv2\n",
    "import time\n",
    "import numpy as np\n",
    "def create_video_stream(in_file, time_split):\n",
    "    \"\"\"\n",
    "    Create an output at a given interval\n",
    "    Parameters\n",
    "    -------\n",
    "    in_file : string or integer (webcam)\n",
    "    time_split :  Time between frames\n",
    "    \"\"\"\n",
    "    cap = cv2.VideoCapture(in_file)\n",
    "    start_time = time.time()\n",
    "    get_time = time_split\n",
    "    while(cap.isOpened()):\n",
    "        ret, frame = cap.read()\n",
    "        if isinstance(in_file,str):\n",
    "            # get time code from video file\n",
    "            cur_time = cap.get(cv2.CAP_PROP_POS_MSEC)/1000.0\n",
    "        else:\n",
    "            cur_time = time.time()-start_time\n",
    "        \n",
    "        if cur_time>=get_time or time_split<0:\n",
    "            if isinstance(in_file,str):\n",
    "                start_time = time.time()\n",
    "            else:\n",
    "                get_time += time_split\n",
    "            yield frame, cur_time\n",
    "    cap.release()\n",
    "    cv2.destroyAllWindows()"
   ]
  },
  {
   "cell_type": "code",
   "execution_count": 2,
   "metadata": {},
   "outputs": [],
   "source": [
    "cur_stream = create_video_stream(0, -1)"
   ]
  },
  {
   "cell_type": "code",
   "execution_count": 3,
   "metadata": {},
   "outputs": [],
   "source": [
    "t_frame = cur_stream.next()[0]"
   ]
  },
  {
   "cell_type": "code",
   "execution_count": 4,
   "metadata": {},
   "outputs": [],
   "source": [
    "def stringify_image(t_frame):\n",
    "    from io import BytesIO\n",
    "    n_out = BytesIO()\n",
    "    np.savetxt(n_out, t_frame[::4, ::4], fmt =  '%s', delimiter =' ', newline = ',')\n",
    "    return n_out.getvalue()\n",
    "def stringify_image(t_frame):\n",
    "    return t_frame.tostring()"
   ]
  },
  {
   "cell_type": "code",
   "execution_count": null,
   "metadata": {},
   "outputs": [
    {
     "data": {
      "text/plain": [
       "'\\x00\\x00\\x00\\x00\\x00\\x00\\x00\\x00\\x00\\x00\\x00\\x00\\x00\\x00\\x00\\x00\\x00\\x00\\x00\\x00\\x00\\x00\\x00\\x00\\x00\\x00\\x00\\x00\\x00\\x00\\x00\\x00\\x00\\x00\\x00\\x00\\x00\\x00\\x00\\x00\\x00\\x00\\x00\\x00\\x00\\x00\\x00\\x00\\x00\\x00\\x00\\x00\\x00\\x00\\x00\\x00\\x00\\x00\\x00\\x00\\x00\\x00\\x00\\x00\\x00\\x00\\x00\\x00\\x00\\x00\\x00\\x00\\x00\\x00\\x00\\x00\\x00\\x00\\x00\\x00\\x00\\x00\\x00\\x00\\x00\\x00\\x00\\x00\\x00\\x00\\x00\\x00\\x00\\x00\\x00\\x00\\x00\\x00\\x00\\x00\\x00\\x00\\x00\\x00\\x00\\x00\\x00\\x00\\x00\\x00\\x00\\x00\\x00\\x00\\x00\\x00\\x00\\x00\\x00\\x00\\x00\\x00\\x00\\x00\\x00\\x00\\x00\\x00\\x00\\x00\\x00\\x00\\x00\\x00\\x00\\x00\\x00\\x00\\x00\\x00\\x00\\x00\\x00\\x00\\x00\\x00\\x00\\x00\\x00\\x00\\x00\\x00\\x00\\x00\\x00\\x00\\x00\\x00\\x00\\x00\\x00\\x00\\x00\\x00\\x00\\x00\\x00\\x00\\x00\\x00\\x00\\x00\\x00\\x00\\x00\\x00\\x00\\x00\\x00\\x00\\x00\\x00\\x00\\x00\\x00\\x00\\x00\\x00\\x00\\x00\\x00\\x00\\x00\\x00\\x00\\x00\\x00\\x00\\x00\\x00\\x00\\x00\\x00\\x00\\x00\\x00\\x00\\x00\\x00\\x00\\x00\\x00\\x00\\x00\\x00\\x00\\x00\\x00\\x00\\x00\\x00\\x00\\x00\\x00\\x00\\x00\\x00\\x00\\x00\\x00\\x00\\x00\\x00\\x00\\x00\\x00\\x00\\x00\\x00\\x00\\x00\\x00\\x00\\x00\\x00\\x00\\x00\\x00\\x00\\x00\\x00\\x00\\x00\\x00\\x00\\x00\\x00\\x00\\x00\\x00\\x00\\x00\\x00\\x00\\x00\\x00\\x00\\x00\\x00\\x00\\x00\\x00\\x00\\x00\\x00\\x00\\x00\\x00\\x00\\x00\\x00\\x00\\x00\\x00\\x00\\x00\\x00\\x00\\x00\\x00\\x00\\x00\\x00\\x00\\x00\\x00\\x00\\x00\\x00\\x00\\x00\\x00\\x00\\x00\\x00\\x00\\x00\\x00\\x00\\x00\\x00\\x00\\x00\\x00\\x00\\x00\\x00\\x00\\x00\\x00\\x00\\x00\\x00\\x00\\x00\\x00\\x00\\x00\\x00\\x00\\x00\\x00\\x00\\x00\\x00\\x00\\x00\\x00\\x00\\x00\\x00\\x00\\x00\\x00\\x00\\x00\\x00\\x00\\x00\\x00\\x00\\x00\\x00\\x00\\x00\\x00\\x00\\x00\\x00\\x00\\x00\\x00\\x00\\x00\\x00\\x00\\x00\\x00\\x00\\x00\\x00\\x00\\x00\\x00\\x00\\x00\\x00\\x00\\x00\\x00\\x00\\x00\\x00\\x00'"
      ]
     },
     "execution_count": 5,
     "metadata": {},
     "output_type": "execute_result"
    }
   ],
   "source": [
    "stringify_image(np.zeros((4,4,3)))"
   ]
  },
  {
   "cell_type": "code",
   "execution_count": null,
   "metadata": {
    "collapsed": true
   },
   "outputs": [],
   "source": []
  },
  {
   "cell_type": "code",
   "execution_count": null,
   "metadata": {},
   "outputs": [
    {
     "name": "stdout",
     "output_type": "stream",
     "text": [
      "Server listening....\n",
      "('Got connection from', ('127.0.0.1', 51072))\n",
      "('Sent frame', '26.18')\n",
      "('Sent frame', '26.21')\n",
      "('Sent frame', '26.24')\n",
      "('Sent frame', '26.29')\n",
      "('Sent frame', '26.39')\n",
      "('Sent frame', '26.46')\n",
      "('Sent frame', '26.56')"
     ]
    }
   ],
   "source": [
    "import socket                   # Import socket module\n",
    "\n",
    "def recvall(sock, count):\n",
    "    buf = b''\n",
    "    while count:\n",
    "        newbuf = sock.recv(count)\n",
    "        if not newbuf: return None\n",
    "        buf += newbuf\n",
    "        count -= len(newbuf)\n",
    "    return buf\n",
    "\n",
    "port = 60000                    # Reserve a port for your service.\n",
    "s = socket.socket()             # Create a socket object\n",
    "host = socket.gethostname()     # Get local machine name\n",
    "s.bind(('localhost', port))            # Bind to the port\n",
    "s.listen(True)                     # Now wait for client connection.\n",
    "\n",
    "print('Server listening....')\n",
    "\n",
    "while True:\n",
    "    conn, addr = s.accept()     # Establish connection with client.\n",
    "    print('Got connection from', addr)\n",
    "    \n",
    "    for i, (c_frame, c_time) in enumerate(cur_stream):\n",
    "        img_string = stringify_image(np.zeros((4,4,3)))\n",
    "        conn.send(img_string+\"\\n\")\n",
    "        print('Sent frame','%2.2f' % c_time)\n",
    "        if i>5: break\n",
    "\n",
    "    print('Done sending')\n",
    "    conn.send('finito')"
   ]
  },
  {
   "cell_type": "code",
   "execution_count": null,
   "metadata": {},
   "outputs": [],
   "source": [
    "my_video = create_video_stream(0,1)\n",
    "(c_frame,c_time) = my_video.next()"
   ]
  },
  {
   "cell_type": "code",
   "execution_count": null,
   "metadata": {
    "collapsed": true
   },
   "outputs": [],
   "source": [
    "import socket\n",
    "TCP_IP = 'localhost'\n",
    "TCP_PORT = 40123\n",
    "MESSAGE = \"Test data Test data Test data\"\n",
    "\n",
    "s = socket.socket(socket.AF_INET, socket.SOCK_STREAM)\n",
    "s.bind((TCP_IP, TCP_PORT))\n",
    "for (s_obj,s_addr) in s.accept():\n",
    "    print(\"hello from\",s_addr)"
   ]
  }
 ],
 "metadata": {
  "kernelspec": {
   "display_name": "Python 3",
   "language": "python",
   "name": "python3"
  },
  "language_info": {
   "codemirror_mode": {
    "name": "ipython",
    "version": 3
   },
   "file_extension": ".py",
   "mimetype": "text/x-python",
   "name": "python",
   "nbconvert_exporter": "python",
   "pygments_lexer": "ipython3",
   "version": "3.6.4"
  }
 },
 "nbformat": 4,
 "nbformat_minor": 1
}
