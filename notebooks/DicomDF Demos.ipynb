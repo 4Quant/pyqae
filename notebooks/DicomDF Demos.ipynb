{
 "cells": [
  {
   "cell_type": "code",
   "execution_count": 1,
   "metadata": {},
   "outputs": [],
   "source": [
    "from pyspark import SparkContext\n",
    "from pyspark.sql import SQLContext\n",
    "sc = SparkContext(appName = 'DicomDF')\n",
    "sqlContext = SQLContext(sc)"
   ]
  },
  {
   "cell_type": "code",
   "execution_count": 2,
   "metadata": {},
   "outputs": [],
   "source": [
    "from pyqae.med import dicom_paths_to_df\n",
    "from pyqae.utils import local_read_depth\n",
    "import numpy as np"
   ]
  },
  {
   "cell_type": "code",
   "execution_count": 3,
   "metadata": {},
   "outputs": [],
   "source": [
    "test_files = local_read_depth('../test/resources', 1, inc_parent = False)"
   ]
  },
  {
   "cell_type": "code",
   "execution_count": 5,
   "metadata": {},
   "outputs": [
    {
     "data": {
      "text/plain": [
       "<class 'bytes'>    90\n",
       "<class 'str'>      50\n",
       "<class 'int'>      15\n",
       "<class 'float'>    14\n",
       "<class 'list'>      6\n",
       "dtype: int64"
      ]
     },
     "execution_count": 5,
     "metadata": {},
     "output_type": "execute_result"
    }
   ],
   "source": [
    "dicom_df = dicom_paths_to_df(test_files)\n",
    "dicom_df.apply(lambda x: type(x.values[0])).value_counts()"
   ]
  },
  {
   "cell_type": "code",
   "execution_count": 6,
   "metadata": {},
   "outputs": [
    {
     "data": {
      "text/html": [
       "<div>\n",
       "<style scoped>\n",
       "    .dataframe tbody tr th:only-of-type {\n",
       "        vertical-align: middle;\n",
       "    }\n",
       "\n",
       "    .dataframe tbody tr th {\n",
       "        vertical-align: top;\n",
       "    }\n",
       "\n",
       "    .dataframe thead th {\n",
       "        text-align: right;\n",
       "    }\n",
       "</style>\n",
       "<table border=\"1\" class=\"dataframe\">\n",
       "  <thead>\n",
       "    <tr style=\"text-align: right;\">\n",
       "      <th></th>\n",
       "      <th>Accession Number</th>\n",
       "      <th>Acquisition Date</th>\n",
       "      <th>Acquisition Number</th>\n",
       "      <th>Acquisition Time</th>\n",
       "      <th>Additional Patient History</th>\n",
       "      <th>Bits Allocated</th>\n",
       "      <th>Bits Stored</th>\n",
       "      <th>Body Part Examined</th>\n",
       "      <th>Code Meaning</th>\n",
       "      <th>Code Value</th>\n",
       "      <th>...</th>\n",
       "      <th>Specific Character Set</th>\n",
       "      <th>Study Date</th>\n",
       "      <th>Study Description</th>\n",
       "      <th>Study Instance UID</th>\n",
       "      <th>Study Time</th>\n",
       "      <th>Table Height</th>\n",
       "      <th>Window Center</th>\n",
       "      <th>Window Width</th>\n",
       "      <th>X-Ray Tube Current</th>\n",
       "      <th>DICOMPath4Q</th>\n",
       "    </tr>\n",
       "  </thead>\n",
       "  <tbody>\n",
       "    <tr>\n",
       "      <th>0</th>\n",
       "      <td>7731341270494673</td>\n",
       "      <td>19890810</td>\n",
       "      <td>1</td>\n",
       "      <td>113713</td>\n",
       "      <td>F/U LUNG CA.</td>\n",
       "      <td>16</td>\n",
       "      <td>16</td>\n",
       "      <td>LUNG</td>\n",
       "      <td>Retain Safe Private Option</td>\n",
       "      <td>113111</td>\n",
       "      <td>...</td>\n",
       "      <td>ISO_IR 100</td>\n",
       "      <td>19890810</td>\n",
       "      <td>CT CHEST</td>\n",
       "      <td>1.3.6.1.4.1.14519.5.2.1.6450.4012.206382517630...</td>\n",
       "      <td>113536</td>\n",
       "      <td>139.5</td>\n",
       "      <td>40.0</td>\n",
       "      <td>400.0</td>\n",
       "      <td>500</td>\n",
       "      <td>../test/resources/dicom/10-060.dcm</td>\n",
       "    </tr>\n",
       "  </tbody>\n",
       "</table>\n",
       "<p>1 rows × 79 columns</p>\n",
       "</div>"
      ],
      "text/plain": [
       "   Accession Number Acquisition Date  Acquisition Number Acquisition Time  \\\n",
       "0  7731341270494673         19890810                   1           113713   \n",
       "\n",
       "  Additional Patient History  Bits Allocated  Bits Stored Body Part Examined  \\\n",
       "0               F/U LUNG CA.              16           16               LUNG   \n",
       "\n",
       "                 Code Meaning Code Value                 ...                  \\\n",
       "0  Retain Safe Private Option     113111                 ...                   \n",
       "\n",
       "  Specific Character Set  Study Date Study Description  \\\n",
       "0             ISO_IR 100    19890810          CT CHEST   \n",
       "\n",
       "                                  Study Instance UID Study Time  Table Height  \\\n",
       "0  1.3.6.1.4.1.14519.5.2.1.6450.4012.206382517630...     113536         139.5   \n",
       "\n",
       "  Window Center  Window Width  X-Ray Tube Current  \\\n",
       "0          40.0         400.0                 500   \n",
       "\n",
       "                          DICOMPath4Q  \n",
       "0  ../test/resources/dicom/10-060.dcm  \n",
       "\n",
       "[1 rows x 79 columns]"
      ]
     },
     "execution_count": 6,
     "metadata": {},
     "output_type": "execute_result"
    }
   ],
   "source": [
    "# not all types are supported by spark sql\n",
    "valid_cols = dicom_df.apply(lambda x: type(x.values[0]) in [type(''), int, float])\n",
    "valid_col_df = dicom_df[valid_cols.index[np.where(valid_cols)[0]]]\n",
    "valid_col_df.sample(1)"
   ]
  },
  {
   "cell_type": "code",
   "execution_count": 7,
   "metadata": {},
   "outputs": [
    {
     "data": {
      "text/html": [
       "<div>\n",
       "<style scoped>\n",
       "    .dataframe tbody tr th:only-of-type {\n",
       "        vertical-align: middle;\n",
       "    }\n",
       "\n",
       "    .dataframe tbody tr th {\n",
       "        vertical-align: top;\n",
       "    }\n",
       "\n",
       "    .dataframe thead th {\n",
       "        text-align: right;\n",
       "    }\n",
       "</style>\n",
       "<table border=\"1\" class=\"dataframe\">\n",
       "  <thead>\n",
       "    <tr style=\"text-align: right;\">\n",
       "      <th></th>\n",
       "      <th>Accession Number</th>\n",
       "      <th>Acquisition Date</th>\n",
       "      <th>Acquisition Number</th>\n",
       "      <th>Acquisition Time</th>\n",
       "      <th>Additional Patient History</th>\n",
       "      <th>Bits Allocated</th>\n",
       "      <th>Bits Stored</th>\n",
       "      <th>Body Part Examined</th>\n",
       "      <th>Code Meaning</th>\n",
       "      <th>Code Value</th>\n",
       "      <th>...</th>\n",
       "      <th>Specific Character Set</th>\n",
       "      <th>Study Date</th>\n",
       "      <th>Study Description</th>\n",
       "      <th>Study Instance UID</th>\n",
       "      <th>Study Time</th>\n",
       "      <th>Table Height</th>\n",
       "      <th>Window Center</th>\n",
       "      <th>Window Width</th>\n",
       "      <th>X-Ray Tube Current</th>\n",
       "      <th>DICOMPath4Q</th>\n",
       "    </tr>\n",
       "  </thead>\n",
       "  <tbody>\n",
       "    <tr>\n",
       "      <th>0</th>\n",
       "      <td>7731341270494673</td>\n",
       "      <td>19890810</td>\n",
       "      <td>1</td>\n",
       "      <td>113713</td>\n",
       "      <td>F/U LUNG CA.</td>\n",
       "      <td>16</td>\n",
       "      <td>16</td>\n",
       "      <td>LUNG</td>\n",
       "      <td>Retain Safe Private Option</td>\n",
       "      <td>113111</td>\n",
       "      <td>...</td>\n",
       "      <td>ISO_IR 100</td>\n",
       "      <td>19890810</td>\n",
       "      <td>CT CHEST</td>\n",
       "      <td>1.3.6.1.4.1.14519.5.2.1.6450.4012.206382517630...</td>\n",
       "      <td>113536</td>\n",
       "      <td>139.5</td>\n",
       "      <td>40.0</td>\n",
       "      <td>400.0</td>\n",
       "      <td>500</td>\n",
       "      <td>../test/resources/dicom/10-060.dcm</td>\n",
       "    </tr>\n",
       "  </tbody>\n",
       "</table>\n",
       "<p>1 rows × 79 columns</p>\n",
       "</div>"
      ],
      "text/plain": [
       "   Accession Number Acquisition Date  Acquisition Number Acquisition Time  \\\n",
       "0  7731341270494673         19890810                   1           113713   \n",
       "\n",
       "  Additional Patient History  Bits Allocated  Bits Stored Body Part Examined  \\\n",
       "0               F/U LUNG CA.              16           16               LUNG   \n",
       "\n",
       "                 Code Meaning Code Value                 ...                  \\\n",
       "0  Retain Safe Private Option     113111                 ...                   \n",
       "\n",
       "  Specific Character Set  Study Date Study Description  \\\n",
       "0             ISO_IR 100    19890810          CT CHEST   \n",
       "\n",
       "                                  Study Instance UID Study Time  Table Height  \\\n",
       "0  1.3.6.1.4.1.14519.5.2.1.6450.4012.206382517630...     113536         139.5   \n",
       "\n",
       "  Window Center  Window Width  X-Ray Tube Current  \\\n",
       "0          40.0         400.0                 500   \n",
       "\n",
       "                          DICOMPath4Q  \n",
       "0  ../test/resources/dicom/10-060.dcm  \n",
       "\n",
       "[1 rows x 79 columns]"
      ]
     },
     "execution_count": 7,
     "metadata": {},
     "output_type": "execute_result"
    }
   ],
   "source": [
    "tdf = sqlContext.createDataFrame(valid_col_df)\n",
    "tdf.registerTempTable('DICOMSingleTable')\n",
    "sqlContext.sql(\"\"\"SELECT * FROM DICOMSingleTable LIMIT 1\"\"\").toPandas()"
   ]
  },
  {
   "cell_type": "code",
   "execution_count": 8,
   "metadata": {},
   "outputs": [],
   "source": [
    "sc.stop()"
   ]
  },
  {
   "cell_type": "code",
   "execution_count": null,
   "metadata": {},
   "outputs": [],
   "source": []
  }
 ],
 "metadata": {
  "kernelspec": {
   "display_name": "Python 3",
   "language": "python",
   "name": "python3"
  },
  "language_info": {
   "codemirror_mode": {
    "name": "ipython",
    "version": 3
   },
   "file_extension": ".py",
   "mimetype": "text/x-python",
   "name": "python",
   "nbconvert_exporter": "python",
   "pygments_lexer": "ipython3",
   "version": "3.6.5"
  }
 },
 "nbformat": 4,
 "nbformat_minor": 1
}
