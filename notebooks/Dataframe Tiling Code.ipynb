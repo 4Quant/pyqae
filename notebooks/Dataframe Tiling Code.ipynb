{
 "cells": [
  {
   "cell_type": "code",
   "execution_count": 4,
   "metadata": {},
   "outputs": [],
   "source": [
    "# standard python tools\n",
    "import numpy as np\n",
    "from glob import glob\n",
    "import os"
   ]
  },
  {
   "cell_type": "code",
   "execution_count": 10,
   "metadata": {},
   "outputs": [
    {
     "name": "stdout",
     "output_type": "stream",
     "text": [
      "Using a fake spark backend for processing\n",
      "[<class 'pyqae.images.lazy.LazyImagePillowBackend'>]\n"
     ]
    }
   ],
   "source": [
    "# make sure pyqae is available\n",
    "import pyqae as pq\n",
    "    \n",
    "# check to see if it is running on pyspark (if not use the simplespark backend)\n",
    "try:\n",
    "    import pyspark\n",
    "except ImportError:\n",
    "    print('Using a fake spark backend for processing')\n",
    "\n",
    "    import pyqae.simplespark as pyspark\n",
    "    sc = pyspark.LocalSparkContext()\n",
    "\n",
    "from pyqae.images import viz\n",
    "# lazy image \n",
    "from pyqae.images.lazy import paths_to_tiled_image, DiskMappedLazyImage, backends\n",
    "print(backends)"
   ]
  },
  {
   "cell_type": "code",
   "execution_count": 19,
   "metadata": {},
   "outputs": [],
   "source": [
    "base_path = os.path.join(\"..\",\"test\",\"resources\")\n",
    "little_image_list = glob(os.path.join(base_path,\"multilayer_tif\",\"*.tif\"))\n",
    "big_image_list = [little_image_list[-1]]"
   ]
  },
  {
   "cell_type": "code",
   "execution_count": 20,
   "metadata": {},
   "outputs": [
    {
     "name": "stdout",
     "output_type": "stream",
     "text": [
      "(120, 120)\n"
     ]
    }
   ],
   "source": [
    "start_img = DiskMappedLazyImage(big_image_list[0], backends[0])\n",
    "print(start_img.shape)"
   ]
  },
  {
   "cell_type": "code",
   "execution_count": 21,
   "metadata": {},
   "outputs": [],
   "source": [
    "def create_line_break(x_tile_size, x_dim):\n",
    "    return [(x, min(x+x_tile_size, x_dim)) for x in range(0, x_dim, x_tile_size)]\n",
    "\n",
    "def create_tiles(x_tile_size, x_dim, y_tile_size, y_dim):\n",
    "    return [(x_tile, y_tile) for x_tile in create_line_break(x_tile_size, x_dim) \n",
    "            for y_tile in create_line_break(y_tile_size, y_dim)]\n",
    "def tile_dict(tile_list):\n",
    "    return [{'x_start': int(xs), 'y_start': int(ys), \n",
    "             'x_end': int(xe), 'y_end': int(ye)} for ((xs, xe), (ys, ye)) in tile_list]"
   ]
  },
  {
   "cell_type": "code",
   "execution_count": 22,
   "metadata": {},
   "outputs": [
    {
     "name": "stdout",
     "output_type": "stream",
     "text": [
      "[(0, 256), (256, 512), (512, 768), (768, 1024), (1024, 1025)]\n"
     ]
    }
   ],
   "source": [
    "print(create_line_break(256, 1025))"
   ]
  },
  {
   "cell_type": "code",
   "execution_count": 23,
   "metadata": {},
   "outputs": [
    {
     "name": "stdout",
     "output_type": "stream",
     "text": [
      "[[[1507 1644]\n",
      "  [ 388  582]]\n",
      "\n",
      " [[2603 2740]\n",
      "  [ 776  970]]]\n",
      "[[[2223 2470]\n",
      "  [ 931 1064]]\n",
      "\n",
      " [[ 741  988]\n",
      "  [ 133  266]]]\n",
      "[[[1300 1560]\n",
      "  [ 141  282]]\n",
      "\n",
      " [[1560 1820]\n",
      "  [ 141  282]]]\n"
     ]
    }
   ],
   "source": [
    "im_size = np.random.randint(1000, 4000, size = 2)\n",
    "for tile_size in np.random.randint(100, 300, size = (3,2)):\n",
    "    c_tiles = create_tiles(tile_size[0], im_size[0],tile_size[1], im_size[1])\n",
    "    tile_sum = np.sum([(xe-xs)*(ye-ys) for ((xs, xe), (ys, ye)) in c_tiles])\n",
    "    print(np.random.permutation(c_tiles)[0:2])\n",
    "    assert tile_sum == im_size[0]*im_size[1], \"Total pixel count cannot change, {} != {}\".format(im_size[0]*im_size[1], tile_sum)"
   ]
  },
  {
   "cell_type": "code",
   "execution_count": 24,
   "metadata": {},
   "outputs": [
    {
     "ename": "NameError",
     "evalue": "name 'sqlContext' is not defined",
     "output_type": "error",
     "traceback": [
      "\u001b[1;31m---------------------------------------------------------------------------\u001b[0m",
      "\u001b[1;31mNameError\u001b[0m                                 Traceback (most recent call last)",
      "\u001b[1;32m<ipython-input-24-9619a0c8c54b>\u001b[0m in \u001b[0;36m<module>\u001b[1;34m()\u001b[0m\n\u001b[1;32m----> 1\u001b[1;33m \u001b[0msqlContext\u001b[0m\u001b[1;33m.\u001b[0m\u001b[0mcreateDataFrame\u001b[0m\u001b[1;33m(\u001b[0m\u001b[0mtile_dict\u001b[0m\u001b[1;33m(\u001b[0m\u001b[0mc_tiles\u001b[0m\u001b[1;33m)\u001b[0m\u001b[1;33m)\u001b[0m\u001b[1;33m\u001b[0m\u001b[0m\n\u001b[0m",
      "\u001b[1;31mNameError\u001b[0m: name 'sqlContext' is not defined"
     ]
    }
   ],
   "source": [
    "sqlContext.createDataFrame(tile_dict(c_tiles))"
   ]
  },
  {
   "cell_type": "code",
   "execution_count": null,
   "metadata": {
    "collapsed": true
   },
   "outputs": [],
   "source": []
  }
 ],
 "metadata": {
  "kernelspec": {
   "display_name": "Python 3",
   "language": "python",
   "name": "python3"
  },
  "language_info": {
   "codemirror_mode": {
    "name": "ipython",
    "version": 3
   },
   "file_extension": ".py",
   "mimetype": "text/x-python",
   "name": "python",
   "nbconvert_exporter": "python",
   "pygments_lexer": "ipython3",
   "version": "3.6.4"
  }
 },
 "nbformat": 4,
 "nbformat_minor": 1
}
