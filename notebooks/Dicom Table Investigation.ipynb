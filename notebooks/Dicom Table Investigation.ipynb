{
 "cells": [
  {
   "cell_type": "code",
   "execution_count": 1,
   "metadata": {},
   "outputs": [],
   "source": [
    "from pyspark import SparkContext\n",
    "from pyspark.sql import SQLContext\n",
    "sc = SparkContext(appName = 'DicomTable')\n",
    "sqlContext = SQLContext(sc)"
   ]
  },
  {
   "cell_type": "code",
   "execution_count": 2,
   "metadata": {},
   "outputs": [],
   "source": [
    "from pyqae import PyqaeContext"
   ]
  },
  {
   "cell_type": "code",
   "execution_count": 3,
   "metadata": {},
   "outputs": [],
   "source": [
    "from pydicom import read_file as dicom_simple_read\n",
    "import numpy as np\n",
    "from glob import glob\n",
    "import pandas as pd"
   ]
  },
  {
   "cell_type": "code",
   "execution_count": 4,
   "metadata": {},
   "outputs": [],
   "source": [
    "import os\n",
    "from glob import glob\n",
    "def local_read_depth(in_folder, depth, ext = '.dcm', inc_parent = False):\n",
    "    \"\"\"\n",
    "    Read recursively from a list of directories\n",
    "    :param in_folder: the base path to start from\n",
    "    :param depth: the depth to look in the tree\n",
    "    :param ext: the extension to search for\n",
    "    :param inc_parent: to include the results from parent directories as well\n",
    "    :return: a list of files\n",
    "    \"\"\"\n",
    "    c_path = [in_folder]\n",
    "    out_files = []\n",
    "    for i in range(depth+1):\n",
    "        c_wc_path = os.path.join(*(c_path + ['*']*i + ['*'+ext]))\n",
    "        out_files += [] if (not inc_parent) and (i<depth) else glob(c_wc_path)\n",
    "    return out_files"
   ]
  },
  {
   "cell_type": "code",
   "execution_count": 5,
   "metadata": {},
   "outputs": [],
   "source": [
    "c_files = local_read_depth('../test/resources/', 1, inc_parent = False)"
   ]
  },
  {
   "cell_type": "code",
   "execution_count": 6,
   "metadata": {},
   "outputs": [],
   "source": [
    "temp_dicom = dicom_simple_read(c_files[0])"
   ]
  },
  {
   "cell_type": "code",
   "execution_count": 7,
   "metadata": {},
   "outputs": [
    {
     "name": "stdout",
     "output_type": "stream",
     "text": [
      "0 (0008, 0005) Specific Character Set              CS: 'ISO_IR 100'\n",
      "1 (0008, 0008) Image Type                          CS: ['ORIGINAL', 'PRIMARY', 'AXIAL']\n",
      "2 (0008, 0012) Instance Creation Date              DA: '19890810'\n",
      "3 (0008, 0013) Instance Creation Time              TM: '113816'\n",
      "4 (0008, 0016) SOP Class UID                       UI: CT Image Storage\n",
      "5 (0008, 0018) SOP Instance UID                    UI: 1.3.6.1.4.1.14519.5.2.1.6450.4012.824043186060994885795838106093\n",
      "6 (0008, 0020) Study Date                          DA: '19890810'\n",
      "7 (0008, 0021) Series Date                         DA: '19890810'\n",
      "8 (0008, 0022) Acquisition Date                    DA: '19890810'\n",
      "9 (0008, 0023) Content Date                        DA: '19890810'\n",
      "10 (0008, 0030) Study Time                          TM: '113536'\n",
      "11 (0008, 0031) Series Time                         TM: '113652'\n",
      "12 (0008, 0032) Acquisition Time                    TM: '113713'\n",
      "13 (0008, 0033) Content Time                        TM: '113816'\n",
      "14 (0008, 0050) Accession Number                    SH: '7731341270494673'\n",
      "15 (0008, 0060) Modality                            CS: 'CT'\n",
      "16 (0008, 0070) Manufacturer                        LO: 'GE MEDICAL SYSTEMS'\n",
      "17 (0008, 0090) Referring Physician's Name          PN: ' '\n",
      "18 (0008, 1030) Study Description                   LO: 'CT CHEST'\n",
      "19 (0008, 1032) Procedure Code Sequence             SQ: <Sequence, length 1>\n",
      "20 (0008, 103e) Series Description                  LO: \"Recon 2: Helical 5's\"\n",
      "21 (0008, 1090) Manufacturer's Model Name           LO: 'LightSpeed Pro 16'\n",
      "22 (0009, 0010) Private Creator                     LO: 'GEMS_IDEN_01'\n",
      "23 (0009, 1002) [Suite id]                          UN: b'CT01'\n",
      "24 (0009, 1004) [Product id]                        UN: b'LightSpeed Pro  '\n",
      "25 (0010, 0010) Patient's Name                      PN: 'TCGA-34-2605'\n",
      "26 (0010, 0020) Patient ID                          LO: 'TCGA-34-2605'\n",
      "27 (0010, 0030) Patient's Birth Date                DA: ''\n",
      "28 (0010, 0040) Patient's Sex                       CS: 'M'\n",
      "29 (0010, 1010) Patient's Age                       AS: '076Y'\n",
      "30 (0010, 21b0) Additional Patient History          LT: 'F/U LUNG CA.'\n",
      "31 (0012, 0062) Patient Identity Removed            CS: 'YES'\n",
      "32 (0012, 0063) De-identification Method            LO: 'Per DICOM PS 3.15 AnnexE. Details in 0012,0064'\n",
      "33 (0012, 0064) De-identification Method Code Seque SQ: <Sequence, length 7>\n",
      "34 (0013, 0010) Private Creator                     LO: 'CTP'\n",
      "35 (0013, 1010) Private tag data                    UN: b'TCGA-LUSC\\x00'\n",
      "36 (0013, 1013) Private tag data                    UN: b'64504012'\n",
      "37 (0018, 0015) Body Part Examined                  CS: 'LUNG'\n",
      "38 (0018, 0022) Scan Options                        CS: 'HELICAL MODE'\n",
      "39 (0018, 0050) Slice Thickness                     DS: \"5.000000\"\n",
      "40 (0018, 0060) KVP                                 DS: \"120\"\n",
      "41 (0018, 0090) Data Collection Diameter            DS: \"500.000000\"\n",
      "42 (0018, 1020) Software Version(s)                 LO: '05MW14.5'\n",
      "43 (0018, 1030) Protocol Name                       LO: '5.1 ROUTINE CHEST WITHOUT'\n",
      "44 (0018, 1100) Reconstruction Diameter             DS: \"400.000000\"\n",
      "45 (0018, 1110) Distance Source to Detector         DS: \"949.075012\"\n",
      "46 (0018, 1111) Distance Source to Patient          DS: \"541.000000\"\n",
      "47 (0018, 1120) Gantry/Detector Tilt                DS: \"0.000000\"\n",
      "48 (0018, 1130) Table Height                        DS: \"139.500000\"\n",
      "49 (0018, 1140) Rotation Direction                  CS: 'CW'\n",
      "50 (0018, 1150) Exposure Time                       IS: '963'\n",
      "51 (0018, 1151) X-Ray Tube Current                  IS: '500'\n",
      "52 (0018, 1152) Exposure                            IS: '114'\n",
      "53 (0018, 1160) Filter Type                         SH: 'BODY FILTER'\n",
      "54 (0018, 1170) Generator Power                     IS: '60000'\n",
      "55 (0018, 1190) Focal Spot(s)                       DS: \"1.200000\"\n",
      "56 (0018, 1210) Convolution Kernel                  SH: 'LUNG'\n",
      "57 (0018, 5100) Patient Position                    CS: 'FFS'\n",
      "58 (0019, 0010) Private Creator                     LO: 'GEMS_ACQU_01'\n",
      "59 (0019, 1002) [Detector Channel]                  UN: b'\\x90\\x03\\x00\\x00'\n",
      "60 (0019, 1003) [Cell number at Theta]              UN: b'389.750000'\n",
      "61 (0019, 1004) [Cell spacing]                      UN: b'1.023900'\n",
      "62 (0019, 100f) [Horiz. Frame of ref.]              UN: b'1600.944946 '\n",
      "63 (0019, 1011) [Series contrast]                   UN: b'\\x00\\x00'\n",
      "64 (0019, 1018) [First scan ras]                    UN: b'S '\n",
      "65 (0019, 101a) [Last scan ras]                     UN: b'I '\n",
      "66 (0019, 1023) [Table Speed [mm/rotation]]         UN: b'17.500000 '\n",
      "67 (0019, 1024) [Mid Scan Time [sec]]               UN: b'3.963415'\n",
      "68 (0019, 1025) [Mid scan flag]                     UN: b'\\x01\\x00'\n",
      "69 (0019, 1026) [Tube Azimuth [degree]]             UN: b'c\\x01\\x00\\x00'\n",
      "70 (0019, 1027) [Rotation Speed [msec]]             UN: b'0.800000'\n",
      "71 (0019, 102c) [Number of triggers]                UN: b'(J\\x00\\x00'\n",
      "72 (0019, 102e) [Angle of first view]               UN: b'0.000000'\n",
      "73 (0019, 102f) [Trigger frequency]                 UN: b'1230.000000 '\n",
      "74 (0019, 1039) [SFOV Type]                         UN: b'\\x10\\x00'\n",
      "75 (0019, 1042) [Segment Number]                    UN: b'\\x00\\x00'\n",
      "76 (0019, 1043) [Total Segments Required]           UN: b'\\x00\\x00'\n",
      "77 (0019, 1047) [View compression factor]           UN: b'\\x01\\x00'\n",
      "78 (0019, 1052) [Recon post proc. Flag]             UN: b'\\x01\\x00'\n",
      "79 (0019, 106a) [Dependent on #views processed]     UN: b'\\x03\\x00'\n",
      "80 (0020, 000d) Study Instance UID                  UI: 1.3.6.1.4.1.14519.5.2.1.6450.4012.206382517630164051916496664467\n",
      "81 (0020, 000e) Series Instance UID                 UI: 1.3.6.1.4.1.14519.5.2.1.6450.4012.101590063798758987184883558122\n",
      "82 (0020, 0010) Study ID                            SH: ''\n",
      "83 (0020, 0011) Series Number                       IS: '3'\n",
      "84 (0020, 0012) Acquisition Number                  IS: '1'\n",
      "85 (0020, 0013) Instance Number                     IS: '16'\n",
      "86 (0020, 0032) Image Position (Patient)            DS: ['-200.000000', '-200.000000', '-42.250000']\n",
      "87 (0020, 0037) Image Orientation (Patient)         DS: ['1.000000', '0.000000', '0.000000', '0.000000', '1.000000', '0.000000']\n",
      "88 (0020, 0052) Frame of Reference UID              UI: 1.3.6.1.4.1.14519.5.2.1.6450.4012.151898168437515227274252015091\n",
      "89 (0020, 1040) Position Reference Indicator        LO: 'SN'\n",
      "90 (0020, 1041) Slice Location                      DS: \"-42.250000\"\n",
      "91 (0021, 0010) Private Creator                     LO: 'GEMS_RELA_01'\n",
      "92 (0021, 1003) [Series from which Prescribed]      UN: b'\\x02\\x00'\n",
      "93 (0021, 1035) [Series from which prescribed]      UN: b'\\x01\\x00'\n",
      "94 (0021, 1036) [Image from which prescribed]       UN: b'\\x02\\x00'\n",
      "95 (0021, 1091) [Biopsy position]                   UN: b'\\x00\\x00'\n",
      "96 (0021, 1092) [Biopsy T location]                 UN: b'\\x00\\x00\\x00\\x00'\n",
      "97 (0021, 1093) [Biopsy ref location]               UN: b'\\x00\\x00\\x00\\x00'\n",
      "98 (0023, 0010) Private Creator                     LO: 'GEMS_STDY_01'\n",
      "99 (0027, 0010) Private Creator                     LO: 'GEMS_IMAG_01'\n",
      "100 (0027, 1010) [Scout Type]                        UN: b'\\x00\\x00'\n",
      "101 (0027, 101c) [Vma mamp]                          UN: b'\\x00\\x00\\x00\\x00'\n",
      "102 (0027, 101e) [Vma mod]                           UN: b'\\x00\\x00\\x00\\x00'\n",
      "103 (0027, 101f) [Vma clip]                          UN: b'\\x00\\x00\\x00\\x00'\n",
      "104 (0027, 1020) [Smart scan ON/OFF flag]            UN: b'\\x00\\x00'\n",
      "105 (0027, 1035) [Plane Type]                        UN: b'\\x02\\x00'\n",
      "106 (0027, 1042) [Center R coord of plane image]     UN: b'\\x00\\x00\\x00\\x00'\n",
      "107 (0027, 1043) [Center A coord of plane image]     UN: b'\\x00\\x00\\x00\\x00'\n",
      "108 (0027, 1044) [Center S coord of plane image]     UN: b'\\x00\\x00)\\xc2'\n",
      "109 (0027, 1045) [Normal R coord]                    UN: b'\\x00\\x00\\x00\\x00'\n",
      "110 (0027, 1046) [Normal A coord]                    UN: b'\\x00\\x00\\x00\\x00'\n",
      "111 (0027, 1047) [Normal S coord]                    UN: b'\\x00\\x00\\x80\\xbf'\n",
      "112 (0027, 1050) [Scan Start Location]               UN: b'\\x00\\x00\\x00\\x00'\n",
      "113 (0027, 1051) [Scan End Location]                 UN: b'\\x00\\x00\\x00\\x00'\n",
      "114 (0028, 0002) Samples per Pixel                   US: 1\n",
      "115 (0028, 0004) Photometric Interpretation          CS: 'MONOCHROME2'\n",
      "116 (0028, 0010) Rows                                US: 512\n",
      "117 (0028, 0011) Columns                             US: 512\n",
      "118 (0028, 0030) Pixel Spacing                       DS: ['0.781250', '0.781250']\n",
      "119 (0028, 0100) Bits Allocated                      US: 16\n",
      "120 (0028, 0101) Bits Stored                         US: 16\n",
      "121 (0028, 0102) High Bit                            US: 15\n",
      "122 (0028, 0103) Pixel Representation                US: 1\n",
      "123 (0028, 0120) Pixel Padding Value                 US: 63536\n",
      "124 (0028, 0303) Longitudinal Temporal Information M SH: 'MODIFIED'\n",
      "125 (0028, 1050) Window Center                       DS: \"40\"\n",
      "126 (0028, 1051) Window Width                        DS: \"400\"\n",
      "127 (0028, 1052) Rescale Intercept                   DS: \"-1024\"\n",
      "128 (0028, 1053) Rescale Slope                       DS: \"1\"\n",
      "129 (0028, 1054) Rescale Type                        LO: 'HU'\n",
      "130 (0040, 0244) Performed Procedure Step Start Date DA: '19890810'\n",
      "131 (0040, 0245) Performed Procedure Step Start Time TM: '113536'\n",
      "132 (0040, 0254) Performed Procedure Step Descriptio LO: 'CT CHEST'\n",
      "133 (0043, 0010) Private Creator                     LO: 'GEMS_PARM_01'\n",
      "134 (0043, 1010) [Window value]                      UN: b'\\x90\\x01'\n",
      "135 (0043, 1012) [X-ray chain]                       UN: b'c\\x00c\\x00c\\x00'\n",
      "136 (0043, 1016) [Number of overranges]              UN: b'\\x00\\x00'\n",
      "137 (0043, 101e) [Delta Start Time [msec]]           UN: b'3.482114'\n",
      "138 (0043, 101f) [Max overranges in a view]          UN: b'\\x00\\x00\\x00\\x00'\n",
      "139 (0043, 1021) [Corrected after glow terms]        UN: b'\\x00\\x00'\n",
      "140 (0043, 1025) [Reference channels]                UN: b'\\x00\\x00\\x00\\x00\\x00\\x00\\x00\\x00\\x00\\x00\\x00\\x00'\n",
      "141 (0043, 1026) [No views ref chans blocked]        UN: b'\\x00\\x00\\x00\\x00\\x00\\x00\\x00\\x00\\x00\\x00\\x00\\x00\\x00\\x00\\x00\\x00'\n",
      "142 (0043, 1027) [Scan Pitch Ratio]                  UN: b'1.75:1'\n",
      "143 (0043, 102b) [Private Scan Options]              UN: b'\\x04\\x00\\x00\\x00\\x00\\x00\\x00\\x00'\n",
      "144 (0043, 1031) [Recon Center Coordinates]          UN: b'0.000000\\\\0.000000 '\n",
      "145 (0043, 1040) [Trigger on position]               UN: b'\\x0e\\xbe\\x9c@'\n",
      "146 (0043, 1041) [Degree of rotation]                UN: b'\\xff\\x07\\xd9E'\n",
      "147 (0043, 1042) [DAS trigger source]                UN: b'\\x00\\x00\\x00\\x00'\n",
      "148 (0043, 1043) [DAS fpa gain]                      UN: b'\\x00\\x00\\x00\\x00'\n",
      "149 (0043, 1044) [DAS output source]                 UN: b'\\x00\\x00\\x00\\x00'\n",
      "150 (0043, 1045) [DAS ad input]                      UN: b'\\x00\\x00\\x00\\x00'\n",
      "151 (0043, 1046) [DAS cal mode]                      UN: b'\\x00\\x00\\x00\\x00'\n",
      "152 (0043, 104d) [Start scan to X-ray on delay]      UN: b'\\x00\\x00\\x00\\x00'\n",
      "153 (0043, 104e) [Duration of X-ray on]              UN: b'\\xee\\xeevA'\n",
      "154 (0043, 1064) [Image Filter]                      UN: b''\n",
      "155 (0045, 0010) Private Creator                     LO: 'GEMS_HELIOS_01'\n",
      "156 (0045, 1001) [Number of Macro Rows in Detector]  UN: b'\\x10\\x00'\n",
      "157 (0045, 1002) [Macro width at ISO Center]         UN: b'\\x00\\x00 ?'\n",
      "158 (0045, 1003) [DAS type]                          UN: b'\\r\\x00'\n",
      "159 (0045, 1004) [DAS gain]                          UN: b'\\x04\\x00'\n",
      "160 (0045, 1006) [Table Direction]                   UN: b'OUT OF GANTRY '\n",
      "161 (0045, 1007) [Z smoothing Factor]                UN: b'\\x00\\x00\\x00\\x00'\n",
      "162 (0045, 1008) [View Weighting Mode]               UN: b'\\x00\\x00'\n",
      "163 (0045, 1009) [Sigma Row number]                  UN: b'\\x00\\x00'\n",
      "164 (0045, 100a) [Minimum DAS value]                 UN: b'\\x00\\x00\\x00\\x00'\n",
      "165 (0045, 100b) [Maximum Offset Value]              UN: b'\\x00\\x00\\x00\\x00'\n",
      "166 (0045, 100c) [Number of Views shifted]           UN: b'\\x00\\x00'\n",
      "167 (0045, 100d) [Z tracking Flag]                   UN: b'\\x00\\x00'\n",
      "168 (0045, 100e) [Mean Z error]                      UN: b'\\x00\\x00\\x00\\x00'\n",
      "169 (0045, 100f) [Z tracking Error]                  UN: b'\\x00\\x00\\x00\\x00'\n",
      "170 (0045, 1010) [Start View 2A]                     UN: b'\\x00\\x00'\n",
      "171 (0045, 1011) [Number of Views 2A]                UN: b'\\x00\\x00'\n",
      "172 (0045, 1012) [Start View 1A]                     UN: b'\\x00\\x00'\n",
      "173 (0045, 1013) [Sigma Mode]                        UN: b'\\x00\\x00'\n",
      "174 (0045, 1014) [Number of Views 1A]                UN: b'\\x00\\x00'\n",
      "175 (0045, 1015) [Start View 2B]                     UN: b'\\x00\\x00'\n",
      "176 (0045, 1016) [Number Views 2B]                   UN: b'\\x00\\x00'\n",
      "177 (0045, 1017) [Start View 1B]                     UN: b'\\x00\\x00'\n",
      "178 (0045, 1018) [Number of Views 1B]                UN: b'\\x00\\x00'\n",
      "179 (0045, 1021) [Iterbone Flag]                     UN: b'\\x00\\x00'\n",
      "180 (0045, 1022) [Perisstaltic Flag]                 UN: b'\\x00\\x00'\n",
      "181 (0045, 1032) [TemporalResolution]                UN: b'W\\xa2v?'\n",
      "182 (0045, 103b) [NoiseReductionImageFilterDesc]     UN: b''\n",
      "183 (0073, 0010) Private Creator                     LO: 'STENTOR'\n",
      "184 (7fe0, 0010) Pixel Data                          OW: Array of 524288 bytes\n"
     ]
    }
   ],
   "source": [
    "for i, row in enumerate(temp_dicom):\n",
    "    print(i, row)"
   ]
  },
  {
   "cell_type": "code",
   "execution_count": 8,
   "metadata": {},
   "outputs": [],
   "source": [
    "from collections import namedtuple\n",
    "from pyspark.sql.types import _infer_type, _has_nulltype, StructType, MapType, ArrayType\n",
    "from pyspark.sql import Row\n",
    "import pydicom as dicom\n",
    "type_info = namedtuple('type_info', ['inferrable', 'realtype', 'has_nulltype', 'length', 'is_complex'])\n",
    "\n",
    "def _tlen(x):\n",
    "    \"\"\"\n",
    "    Try to calculate the length, otherwise return 1\n",
    "    \"\"\"\n",
    "    try:\n",
    "        return len(x)\n",
    "    except:\n",
    "        try:\n",
    "            if np.isnan(x): return 0\n",
    "        except:\n",
    "            pass\n",
    "        return 1\n",
    "\n",
    "def _tnonempty(x):\n",
    "    return _tlen(x)>0\n",
    "def safe_type_infer(x):\n",
    "    COMPLEX_TYPES = (StructType, MapType)\n",
    "    try:\n",
    "        sq_type = _infer_type(x)\n",
    "        return type_info(True, sq_type, has_nulltype = _has_nulltype(sq_type), \n",
    "                         length = _tlen(x), is_complex = (type(sq_type) in COMPLEX_TYPES)\n",
    "                        )\n",
    "    except:\n",
    "        return type_info(False, type(x), has_nulltype = False, \n",
    "                         length = _tlen(x), is_complex = False)\n",
    "\n",
    "def _identify_column_types(in_df_dict):\n",
    "    return dict([(k, safe_type_infer(v)) for (k, v) in in_df_dict.items()])\n",
    "\n",
    "def _findvalidvalues(crow): \n",
    "        nz_vals = list(filter(_tnonempty, crow))\n",
    "        return None if len(nz_vals)<1 else nz_vals[0]\n",
    "def _countmissingvalues(crow): \n",
    "        nz_vals = list(filter(lambda i: not _tnonempty(i), crow))\n",
    "        return len(nz_vals)\n",
    "BAD_COLUMNS = tuple()\n",
    "\n",
    "def dicom_to_dict(in_dicom, read_array = True):\n",
    "    temp_dict = {a.name:a.value for a in in_dicom.iterall()}\n",
    "    if in_dicom.__dict__.get('_pixel_array',None) is not None:\n",
    "        temp_dict['Pixel Array'] = in_dicom.pixel_array.tolist()\n",
    "    df_dicom = pd.DataFrame([temp_dict]) # just for the type conversion\n",
    "    \n",
    "    cur_kv_pairs = list(df_dicom.T.to_dict().values())[0] # first row\n",
    "    valid_keys =_identify_column_types(cur_kv_pairs)\n",
    "    do_keep = lambda key ,ti: ti.inferrable & (not ti.has_nulltype) & (not ti.is_complex)# & (ti.length>0)\n",
    "    fvalid_keys = dict([ (k, do_keep(k,t_info)) for k, t_info in valid_keys.items()])\n",
    "    return (dict([(k,v) for (k,v) in cur_kv_pairs.items() if fvalid_keys.get(k)]), \n",
    "            dict([(k,v) for (k,v) in cur_kv_pairs.items() if not fvalid_keys.get(k)]),\n",
    "            valid_keys)\n",
    "\n",
    "def dicoms_to_dict(dicom_list):\n",
    "    fvr = lambda x: None if x.first_valid_index() is None else x[x.first_valid_index()]\n",
    "    \n",
    "    out_list = []\n",
    "    \n",
    "    for in_dicom in dicom_list:\n",
    "        temp_dict = {a.name:a.value for a in in_dicom.iterall()}\n",
    "        if in_dicom.__dict__.get('_pixel_array',None) is not None:\n",
    "            temp_dict['Pixel Array'] = in_dicom.pixel_array.tolist()\n",
    "\n",
    "        out_list += [temp_dict]\n",
    "    df_dicom = pd.DataFrame(out_list) # just for the type conversion\n",
    "    fvi_series = df_dicom.apply(_findvalidvalues, axis=0).to_dict()\n",
    "    valid_keys = _identify_column_types(fvi_series)\n",
    "    do_keep = lambda key, ti: ti.inferrable & (not ti.has_nulltype) # & (not ti.is_complex) & (ti.length>0)\n",
    "    fvalid_keys = dict([ (k, do_keep(k,t_info)) for k, t_info in valid_keys.items()])\n",
    "    good_columns = list(map(lambda x: x[0], filter(lambda x: x[1], fvalid_keys.items())))\n",
    "    bad_columns = list(map(lambda x: x[0], filter(lambda x: not x[1], fvalid_keys.items())))\n",
    "    sql_df = df_dicom[good_columns] \n",
    "    return sql_df.dropna(axis = 1)\n",
    "\n",
    "def _remove_empty_columns(in_df):\n",
    "    empty_cols = dict(filter(lambda kv: kv[1]>0, in_df.apply(_countmissingvalues,axis = 0).to_dict().items()))\n",
    "    # remove missing columns\n",
    "    return in_df[[ccol for ccol in in_df.columns if empty_cols.get(ccol,0)==0]]\n",
    "\n",
    "# perform conversions\n",
    "_dicom_conv_dict = {dicom.multival.MultiValue: lambda x: np.array(x).tolist(),\n",
    "                   dicom.sequence.Sequence: lambda seq: [[(str(d_ele.tag), str(d_ele.value)) for d_ele in d_set] for d_set in seq]}\n",
    "\n",
    "def _apply_conv_dict(in_ele):\n",
    "    cnv_fcn = _dicom_conv_dict.get(type(in_ele[0]), None)\n",
    "    if cnv_fcn is not None:\n",
    "        return in_ele.map(cnv_fcn)\n",
    "    else:\n",
    "        return in_ele\n",
    "def _conv_df(in_df):\n",
    "    return in_df.apply(_apply_conv_dict)\n",
    "\n",
    "def dicom_paths_to_df(in_path_list):\n",
    "    f_df = dicoms_to_dict([dicom_simple_read(in_path, stop_before_pixels=True) for in_path in in_path_list])\n",
    "    f_df['DICOMPath4Q'] = in_path_list\n",
    "    rec_df = _remove_empty_columns(f_df)\n",
    "    conv_df = _conv_df(rec_df)\n",
    "    return conv_df"
   ]
  },
  {
   "cell_type": "code",
   "execution_count": 9,
   "metadata": {},
   "outputs": [
    {
     "data": {
      "text/html": [
       "<div>\n",
       "<style scoped>\n",
       "    .dataframe tbody tr th:only-of-type {\n",
       "        vertical-align: middle;\n",
       "    }\n",
       "\n",
       "    .dataframe tbody tr th {\n",
       "        vertical-align: top;\n",
       "    }\n",
       "\n",
       "    .dataframe thead th {\n",
       "        text-align: right;\n",
       "    }\n",
       "</style>\n",
       "<table border=\"1\" class=\"dataframe\">\n",
       "  <thead>\n",
       "    <tr style=\"text-align: right;\">\n",
       "      <th></th>\n",
       "      <th>Accession Number</th>\n",
       "      <th>Acquisition Date</th>\n",
       "      <th>Acquisition Number</th>\n",
       "      <th>Acquisition Time</th>\n",
       "      <th>Additional Patient History</th>\n",
       "      <th>Bits Allocated</th>\n",
       "      <th>Bits Stored</th>\n",
       "      <th>Body Part Examined</th>\n",
       "      <th>Code Meaning</th>\n",
       "      <th>Code Value</th>\n",
       "      <th>...</th>\n",
       "      <th>Specific Character Set</th>\n",
       "      <th>Study Date</th>\n",
       "      <th>Study Description</th>\n",
       "      <th>Study Instance UID</th>\n",
       "      <th>Study Time</th>\n",
       "      <th>Table Height</th>\n",
       "      <th>Window Center</th>\n",
       "      <th>Window Width</th>\n",
       "      <th>X-Ray Tube Current</th>\n",
       "      <th>DICOMPath4Q</th>\n",
       "    </tr>\n",
       "  </thead>\n",
       "  <tbody>\n",
       "    <tr>\n",
       "      <th>0</th>\n",
       "      <td>7731341270494673</td>\n",
       "      <td>19890810</td>\n",
       "      <td>1</td>\n",
       "      <td>113713</td>\n",
       "      <td>F/U LUNG CA.</td>\n",
       "      <td>16</td>\n",
       "      <td>16</td>\n",
       "      <td>LUNG</td>\n",
       "      <td>Retain Safe Private Option</td>\n",
       "      <td>113111</td>\n",
       "      <td>...</td>\n",
       "      <td>ISO_IR 100</td>\n",
       "      <td>19890810</td>\n",
       "      <td>CT CHEST</td>\n",
       "      <td>()</td>\n",
       "      <td>113536</td>\n",
       "      <td>139.5</td>\n",
       "      <td>40.0</td>\n",
       "      <td>400.0</td>\n",
       "      <td>500</td>\n",
       "      <td>../test/resources/dicom/10-060.dcm</td>\n",
       "    </tr>\n",
       "  </tbody>\n",
       "</table>\n",
       "<p>1 rows × 80 columns</p>\n",
       "</div>"
      ],
      "text/plain": [
       "   Accession Number Acquisition Date  Acquisition Number Acquisition Time  \\\n",
       "0  7731341270494673         19890810                   1           113713   \n",
       "\n",
       "  Additional Patient History  Bits Allocated  Bits Stored Body Part Examined  \\\n",
       "0               F/U LUNG CA.              16           16               LUNG   \n",
       "\n",
       "                 Code Meaning Code Value                 ...                  \\\n",
       "0  Retain Safe Private Option     113111                 ...                   \n",
       "\n",
       "  Specific Character Set  Study Date Study Description Study Instance UID  \\\n",
       "0             ISO_IR 100    19890810          CT CHEST                 ()   \n",
       "\n",
       "  Study Time  Table Height Window Center Window Width  X-Ray Tube Current  \\\n",
       "0     113536         139.5          40.0        400.0                 500   \n",
       "\n",
       "                          DICOMPath4Q  \n",
       "0  ../test/resources/dicom/10-060.dcm  \n",
       "\n",
       "[1 rows x 80 columns]"
      ]
     },
     "execution_count": 9,
     "metadata": {},
     "output_type": "execute_result"
    }
   ],
   "source": [
    "dicom_df = dicom_paths_to_df(c_files)\n",
    "tdf = sqlContext.createDataFrame(dicom_df)\n",
    "tdf.registerTempTable('DICOMSingleTable')\n",
    "sqlContext.sql(\"\"\"SELECT * FROM DICOMSingleTable LIMIT 1\"\"\").toPandas()"
   ]
  },
  {
   "cell_type": "code",
   "execution_count": 10,
   "metadata": {},
   "outputs": [
    {
     "data": {
      "text/html": [
       "<div>\n",
       "<style scoped>\n",
       "    .dataframe tbody tr th:only-of-type {\n",
       "        vertical-align: middle;\n",
       "    }\n",
       "\n",
       "    .dataframe tbody tr th {\n",
       "        vertical-align: top;\n",
       "    }\n",
       "\n",
       "    .dataframe thead th {\n",
       "        text-align: right;\n",
       "    }\n",
       "</style>\n",
       "<table border=\"1\" class=\"dataframe\">\n",
       "  <thead>\n",
       "    <tr style=\"text-align: right;\">\n",
       "      <th></th>\n",
       "      <th>DICOMPath4Q</th>\n",
       "      <th>Modality</th>\n",
       "    </tr>\n",
       "  </thead>\n",
       "  <tbody>\n",
       "    <tr>\n",
       "      <th>0</th>\n",
       "      <td>../test/resources/dicom/10-060.dcm</td>\n",
       "      <td>CT</td>\n",
       "    </tr>\n",
       "  </tbody>\n",
       "</table>\n",
       "</div>"
      ],
      "text/plain": [
       "                          DICOMPath4Q Modality\n",
       "0  ../test/resources/dicom/10-060.dcm       CT"
      ]
     },
     "execution_count": 10,
     "metadata": {},
     "output_type": "execute_result"
    }
   ],
   "source": [
    "sqlContext.sql(\"\"\"SELECT DICOMPath4Q, Modality FROM DICOMSingleTable LIMIT 1\"\"\").toPandas()"
   ]
  },
  {
   "cell_type": "code",
   "execution_count": 11,
   "metadata": {},
   "outputs": [],
   "source": [
    "from pyspark.sql import functions as F\n",
    "import pyspark.sql.types as sq_types\n",
    "_sq_conv_map = {\n",
    "    np.int16: sq_types.IntegerType,\n",
    "    np.uint8: sq_types.IntegerType,\n",
    "    np.float32: sq_types.FloatType,\n",
    "    np.float64: sq_types.DoubleType\n",
    "}\n",
    "\n",
    "def _ndarray_to_sql(in_arr):\n",
    "    \"\"\"\n",
    "    \n",
    "    _ndarray_to_sql(np.zeros((3,3,3), np.float32))\n",
    "    >>> ArrayType(ArrayType(ArrayType(FloatType,true),true),true)\n",
    "    \n",
    "    _ndarray_to_sql(np.zeros((3,3,3), np.int16))\n",
    "    >>> ArrayType(ArrayType(ArrayType(IntegerType,true),true),true)\n",
    "    \n",
    "    _ndarray_to_sql(np.zeros((3,3,3), np.object))\n",
    "    Exception: object is not supported in SparkSQL\n",
    "    \"\"\"\n",
    "    assert type(in_arr) is np.ndarray, \"Only works for NDArrays\"\n",
    "    for (dtype, stype) in _sq_conv_map.items():\n",
    "        if dtype == in_arr.dtype:\n",
    "            base_type = stype() # instantiate\n",
    "            for c_dim in in_arr.shape:\n",
    "                base_type = sq_types.ArrayType(base_type)\n",
    "            return base_type\n",
    "        \n",
    "    raise Exception(\"{} is not supported in SparkSQL\".format(in_arr.dtype))\n",
    "\n",
    "\n",
    "twod_arr_type = sq_types.ArrayType(sq_types.ArrayType(sq_types.IntegerType()))\n",
    "# the pull_input_tile function is wrapped into a udf to it can be applied to create the new image column\n",
    "# numpy data is not directly supported and typed arrays must be used instead therefor we run the .tolist command\n",
    "read_dicom_slice_udf = F.udf(lambda x: dicom_simple_read(x).pixel_array.tolist(), returnType = twod_arr_type)"
   ]
  },
  {
   "cell_type": "code",
   "execution_count": 12,
   "metadata": {},
   "outputs": [],
   "source": [
    "t_img_df = tdf.withColumn(\"Pixel Array\", read_dicom_slice_udf(tdf['DICOMPath4Q']))"
   ]
  },
  {
   "cell_type": "code",
   "execution_count": 13,
   "metadata": {},
   "outputs": [],
   "source": [
    "from PIL import Image as PImage\n",
    "from matplotlib.pyplot import cm\n",
    "import base64\n",
    "from io import BytesIO\n",
    "def _np_to_uri(in_array, cmap = 'RdBu'):\n",
    "    \"\"\"\n",
    "    \n",
    "    _np_to_uri(np.zeros((100,100))\n",
    "    >>> 'iVBORw0KGgoAAAANSUhEUgAAAIAAAACACAYAAADDPmHLAAABUElEQVR4nO3SQQEAEADAQBQRT/8ExPDYXYI9Ns/Yd5C1fgfwlwHiDBBngDgDxBkgzgBxBogzQJwB4gwQZ4A4A8QZIM4AcQaIM0CcAeIMEGeAOAPEGSDOAHEGiDNAnAHiDBBngDgDxBkgzgBxBogzQJwB4gwQZ4A4A8QZIM4AcQaIM0CcAeIMEGeAOAPEGSDOAHEGiDNAnAHiDBBngDgDxBkgzgBxBogzQJwB4gwQZ4A4A8QZIM4AcQaIM0CcAeIMEGeAOAPEGSDOAHEGiDNAnAHiDBBngDgDxBkgzgBxBogzQJwB4gwQZ4A4A8QZIM4AcQaIM0CcAeIMEGeAOAPEGSDOAHEGiDNAnAHiDBBngDgDxBkgzgBxBogzQJwB4gwQZ4A4A8QZIM4AcQaIM0CcAeIMEGeAOAPEGSDOAHEGiDNAnAHiDBBngDgDxBkgzgBxDxypAoX8C2RlAAAAAElFTkSuQmCC'\n",
    "    \"\"\"\n",
    "    test_img_data = np.array(in_array).astype(np.float32)\n",
    "    test_img_data -= test_img_data.mean()\n",
    "    test_img_data /= test_img_data.std()\n",
    "    test_img_color = cm.bone((test_img_data+0.5).clip(0,1))\n",
    "    p_data = PImage.fromarray((test_img_color*255).clip(0,255).astype(np.uint8))\n",
    "    rs_p_data = p_data.resize((128, 128), resample = PImage.BICUBIC)\n",
    "    out_img_data = BytesIO()\n",
    "    rs_p_data.save(out_img_data, format = 'png')\n",
    "    out_img_data.seek(0)\n",
    "    return base64.b64encode(out_img_data.read()).decode(\"ascii\").replace(\"\\n\", \"\")\n",
    "image_to_uri_udf = F.udf(_np_to_uri, returnType = sq_types.StringType())"
   ]
  },
  {
   "cell_type": "code",
   "execution_count": 14,
   "metadata": {},
   "outputs": [],
   "source": [
    "t_prev_df = t_img_df.withColumn(\"Preview4Q\", image_to_uri_udf(t_img_df['Pixel Array']))"
   ]
  },
  {
   "cell_type": "code",
   "execution_count": 15,
   "metadata": {},
   "outputs": [],
   "source": [
    "_wrap_uri = lambda data_uri: \"data:image/png;base64,{0}\".format(data_uri)\n",
    "def display_uri(uri_list):\n",
    "    \"\"\"\n",
    "    \n",
    "    show_uri(_np_to_uri(np.zeros((100,100))))\n",
    "    \n",
    "    \"\"\"\n",
    "    from IPython.display import HTML\n",
    "    out_html = \"\"\n",
    "    for in_uri in uri_list:\n",
    "        out_html += \"\"\"<img src=\"{0}\" width = \"100px\" height = \"100px\" />\"\"\".format(_wrap_uri(in_uri))\n",
    "    return HTML(out_html)"
   ]
  },
  {
   "cell_type": "code",
   "execution_count": 16,
   "metadata": {},
   "outputs": [
    {
     "ename": "NameError",
     "evalue": "name 'n_rows' is not defined",
     "output_type": "error",
     "traceback": [
      "\u001b[0;31m---------------------------------------------------------------------------\u001b[0m",
      "\u001b[0;31mNameError\u001b[0m                                 Traceback (most recent call last)",
      "\u001b[0;32m<ipython-input-16-fcd7e63b2954>\u001b[0m in \u001b[0;36m<module>\u001b[0;34m()\u001b[0m\n\u001b[1;32m      1\u001b[0m \u001b[0mtest_ds\u001b[0m \u001b[0;34m=\u001b[0m \u001b[0mt_prev_df\u001b[0m\u001b[0;34m.\u001b[0m\u001b[0mtake\u001b[0m\u001b[0;34m(\u001b[0m\u001b[0;36m5\u001b[0m\u001b[0;34m)\u001b[0m\u001b[0;34m\u001b[0m\u001b[0m\n\u001b[0;32m----> 2\u001b[0;31m \u001b[0mprint\u001b[0m\u001b[0;34m(\u001b[0m\u001b[0mn_rows\u001b[0m\u001b[0;34m)\u001b[0m\u001b[0;34m\u001b[0m\u001b[0m\n\u001b[0m",
      "\u001b[0;31mNameError\u001b[0m: name 'n_rows' is not defined"
     ]
    }
   ],
   "source": [
    "test_ds = t_prev_df.take(1)"
   ]
  },
  {
   "cell_type": "code",
   "execution_count": 20,
   "metadata": {},
   "outputs": [
    {
     "data": {
      "text/html": [
       "<img src=\"data:image/png;base64,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\" width = \"100px\" height = \"100px\" />"
      ],
      "text/plain": [
       "<IPython.core.display.HTML object>"
      ]
     },
     "execution_count": 20,
     "metadata": {},
     "output_type": "execute_result"
    }
   ],
   "source": [
    "display_uri([test_ds[0]['Preview4Q']])"
   ]
  },
  {
   "cell_type": "code",
   "execution_count": 22,
   "metadata": {},
   "outputs": [
    {
     "ename": "Py4JJavaError",
     "evalue": "An error occurred while calling o263.parquet.\n: org.apache.spark.SparkException: Job aborted.\n\tat org.apache.spark.sql.execution.datasources.FileFormatWriter$.write(FileFormatWriter.scala:224)\n\tat org.apache.spark.sql.execution.datasources.InsertIntoHadoopFsRelationCommand.run(InsertIntoHadoopFsRelationCommand.scala:154)\n\tat org.apache.spark.sql.execution.command.DataWritingCommandExec.sideEffectResult$lzycompute(commands.scala:104)\n\tat org.apache.spark.sql.execution.command.DataWritingCommandExec.sideEffectResult(commands.scala:102)\n\tat org.apache.spark.sql.execution.command.DataWritingCommandExec.doExecute(commands.scala:122)\n\tat org.apache.spark.sql.execution.SparkPlan$$anonfun$execute$1.apply(SparkPlan.scala:131)\n\tat org.apache.spark.sql.execution.SparkPlan$$anonfun$execute$1.apply(SparkPlan.scala:127)\n\tat org.apache.spark.sql.execution.SparkPlan$$anonfun$executeQuery$1.apply(SparkPlan.scala:155)\n\tat org.apache.spark.rdd.RDDOperationScope$.withScope(RDDOperationScope.scala:151)\n\tat org.apache.spark.sql.execution.SparkPlan.executeQuery(SparkPlan.scala:152)\n\tat org.apache.spark.sql.execution.SparkPlan.execute(SparkPlan.scala:127)\n\tat org.apache.spark.sql.execution.QueryExecution.toRdd$lzycompute(QueryExecution.scala:80)\n\tat org.apache.spark.sql.execution.QueryExecution.toRdd(QueryExecution.scala:80)\n\tat org.apache.spark.sql.DataFrameWriter$$anonfun$runCommand$1.apply(DataFrameWriter.scala:654)\n\tat org.apache.spark.sql.DataFrameWriter$$anonfun$runCommand$1.apply(DataFrameWriter.scala:654)\n\tat org.apache.spark.sql.execution.SQLExecution$.withNewExecutionId(SQLExecution.scala:77)\n\tat org.apache.spark.sql.DataFrameWriter.runCommand(DataFrameWriter.scala:654)\n\tat org.apache.spark.sql.DataFrameWriter.saveToV1Source(DataFrameWriter.scala:273)\n\tat org.apache.spark.sql.DataFrameWriter.save(DataFrameWriter.scala:267)\n\tat org.apache.spark.sql.DataFrameWriter.save(DataFrameWriter.scala:225)\n\tat org.apache.spark.sql.DataFrameWriter.parquet(DataFrameWriter.scala:547)\n\tat sun.reflect.NativeMethodAccessorImpl.invoke0(Native Method)\n\tat sun.reflect.NativeMethodAccessorImpl.invoke(NativeMethodAccessorImpl.java:62)\n\tat sun.reflect.DelegatingMethodAccessorImpl.invoke(DelegatingMethodAccessorImpl.java:43)\n\tat java.lang.reflect.Method.invoke(Method.java:498)\n\tat py4j.reflection.MethodInvoker.invoke(MethodInvoker.java:244)\n\tat py4j.reflection.ReflectionEngine.invoke(ReflectionEngine.java:357)\n\tat py4j.Gateway.invoke(Gateway.java:282)\n\tat py4j.commands.AbstractCommand.invokeMethod(AbstractCommand.java:132)\n\tat py4j.commands.CallCommand.execute(CallCommand.java:79)\n\tat py4j.GatewayConnection.run(GatewayConnection.java:214)\n\tat java.lang.Thread.run(Thread.java:748)\nCaused by: org.apache.spark.SparkException: Job aborted due to stage failure: Task 0 in stage 12.0 failed 1 times, most recent failure: Lost task 0.0 in stage 12.0 (TID 96, localhost, executor driver): org.apache.spark.SparkException: Task failed while writing rows.\n\tat org.apache.spark.sql.execution.datasources.FileFormatWriter$.org$apache$spark$sql$execution$datasources$FileFormatWriter$$executeTask(FileFormatWriter.scala:285)\n\tat org.apache.spark.sql.execution.datasources.FileFormatWriter$$anonfun$write$1.apply(FileFormatWriter.scala:197)\n\tat org.apache.spark.sql.execution.datasources.FileFormatWriter$$anonfun$write$1.apply(FileFormatWriter.scala:196)\n\tat org.apache.spark.scheduler.ResultTask.runTask(ResultTask.scala:87)\n\tat org.apache.spark.scheduler.Task.run(Task.scala:109)\n\tat org.apache.spark.executor.Executor$TaskRunner.run(Executor.scala:345)\n\tat java.util.concurrent.ThreadPoolExecutor.runWorker(ThreadPoolExecutor.java:1149)\n\tat java.util.concurrent.ThreadPoolExecutor$Worker.run(ThreadPoolExecutor.java:624)\n\tat java.lang.Thread.run(Thread.java:748)\nCaused by: org.apache.parquet.schema.InvalidSchemaException: Cannot write a schema with an empty group: optional group FrameofReferenceUID {\n}\n\tat org.apache.parquet.schema.TypeUtil$1.visit(TypeUtil.java:27)\n\tat org.apache.parquet.schema.GroupType.accept(GroupType.java:229)\n\tat org.apache.parquet.schema.TypeUtil$1.visit(TypeUtil.java:31)\n\tat org.apache.parquet.schema.TypeUtil$1.visit(TypeUtil.java:37)\n\tat org.apache.parquet.schema.MessageType.accept(MessageType.java:58)\n\tat org.apache.parquet.schema.TypeUtil.checkValidWriteSchema(TypeUtil.java:23)\n\tat org.apache.parquet.hadoop.ParquetFileWriter.<init>(ParquetFileWriter.java:225)\n\tat org.apache.parquet.hadoop.ParquetOutputFormat.getRecordWriter(ParquetOutputFormat.java:342)\n\tat org.apache.parquet.hadoop.ParquetOutputFormat.getRecordWriter(ParquetOutputFormat.java:302)\n\tat org.apache.spark.sql.execution.datasources.parquet.ParquetOutputWriter.<init>(ParquetOutputWriter.scala:37)\n\tat org.apache.spark.sql.execution.datasources.parquet.ParquetFileFormat$$anon$1.newInstance(ParquetFileFormat.scala:151)\n\tat org.apache.spark.sql.execution.datasources.FileFormatWriter$SingleDirectoryWriteTask.newOutputWriter(FileFormatWriter.scala:367)\n\tat org.apache.spark.sql.execution.datasources.FileFormatWriter$SingleDirectoryWriteTask.execute(FileFormatWriter.scala:378)\n\tat org.apache.spark.sql.execution.datasources.FileFormatWriter$$anonfun$org$apache$spark$sql$execution$datasources$FileFormatWriter$$executeTask$3.apply(FileFormatWriter.scala:269)\n\tat org.apache.spark.sql.execution.datasources.FileFormatWriter$$anonfun$org$apache$spark$sql$execution$datasources$FileFormatWriter$$executeTask$3.apply(FileFormatWriter.scala:267)\n\tat org.apache.spark.util.Utils$.tryWithSafeFinallyAndFailureCallbacks(Utils.scala:1411)\n\tat org.apache.spark.sql.execution.datasources.FileFormatWriter$.org$apache$spark$sql$execution$datasources$FileFormatWriter$$executeTask(FileFormatWriter.scala:272)\n\t... 8 more\n\nDriver stacktrace:\n\tat org.apache.spark.scheduler.DAGScheduler.org$apache$spark$scheduler$DAGScheduler$$failJobAndIndependentStages(DAGScheduler.scala:1599)\n\tat org.apache.spark.scheduler.DAGScheduler$$anonfun$abortStage$1.apply(DAGScheduler.scala:1587)\n\tat org.apache.spark.scheduler.DAGScheduler$$anonfun$abortStage$1.apply(DAGScheduler.scala:1586)\n\tat scala.collection.mutable.ResizableArray$class.foreach(ResizableArray.scala:59)\n\tat scala.collection.mutable.ArrayBuffer.foreach(ArrayBuffer.scala:48)\n\tat org.apache.spark.scheduler.DAGScheduler.abortStage(DAGScheduler.scala:1586)\n\tat org.apache.spark.scheduler.DAGScheduler$$anonfun$handleTaskSetFailed$1.apply(DAGScheduler.scala:831)\n\tat org.apache.spark.scheduler.DAGScheduler$$anonfun$handleTaskSetFailed$1.apply(DAGScheduler.scala:831)\n\tat scala.Option.foreach(Option.scala:257)\n\tat org.apache.spark.scheduler.DAGScheduler.handleTaskSetFailed(DAGScheduler.scala:831)\n\tat org.apache.spark.scheduler.DAGSchedulerEventProcessLoop.doOnReceive(DAGScheduler.scala:1820)\n\tat org.apache.spark.scheduler.DAGSchedulerEventProcessLoop.onReceive(DAGScheduler.scala:1769)\n\tat org.apache.spark.scheduler.DAGSchedulerEventProcessLoop.onReceive(DAGScheduler.scala:1758)\n\tat org.apache.spark.util.EventLoop$$anon$1.run(EventLoop.scala:48)\n\tat org.apache.spark.scheduler.DAGScheduler.runJob(DAGScheduler.scala:642)\n\tat org.apache.spark.SparkContext.runJob(SparkContext.scala:2027)\n\tat org.apache.spark.sql.execution.datasources.FileFormatWriter$.write(FileFormatWriter.scala:194)\n\t... 31 more\nCaused by: org.apache.spark.SparkException: Task failed while writing rows.\n\tat org.apache.spark.sql.execution.datasources.FileFormatWriter$.org$apache$spark$sql$execution$datasources$FileFormatWriter$$executeTask(FileFormatWriter.scala:285)\n\tat org.apache.spark.sql.execution.datasources.FileFormatWriter$$anonfun$write$1.apply(FileFormatWriter.scala:197)\n\tat org.apache.spark.sql.execution.datasources.FileFormatWriter$$anonfun$write$1.apply(FileFormatWriter.scala:196)\n\tat org.apache.spark.scheduler.ResultTask.runTask(ResultTask.scala:87)\n\tat org.apache.spark.scheduler.Task.run(Task.scala:109)\n\tat org.apache.spark.executor.Executor$TaskRunner.run(Executor.scala:345)\n\tat java.util.concurrent.ThreadPoolExecutor.runWorker(ThreadPoolExecutor.java:1149)\n\tat java.util.concurrent.ThreadPoolExecutor$Worker.run(ThreadPoolExecutor.java:624)\n\t... 1 more\nCaused by: org.apache.parquet.schema.InvalidSchemaException: Cannot write a schema with an empty group: optional group FrameofReferenceUID {\n}\n\tat org.apache.parquet.schema.TypeUtil$1.visit(TypeUtil.java:27)\n\tat org.apache.parquet.schema.GroupType.accept(GroupType.java:229)\n\tat org.apache.parquet.schema.TypeUtil$1.visit(TypeUtil.java:31)\n\tat org.apache.parquet.schema.TypeUtil$1.visit(TypeUtil.java:37)\n\tat org.apache.parquet.schema.MessageType.accept(MessageType.java:58)\n\tat org.apache.parquet.schema.TypeUtil.checkValidWriteSchema(TypeUtil.java:23)\n\tat org.apache.parquet.hadoop.ParquetFileWriter.<init>(ParquetFileWriter.java:225)\n\tat org.apache.parquet.hadoop.ParquetOutputFormat.getRecordWriter(ParquetOutputFormat.java:342)\n\tat org.apache.parquet.hadoop.ParquetOutputFormat.getRecordWriter(ParquetOutputFormat.java:302)\n\tat org.apache.spark.sql.execution.datasources.parquet.ParquetOutputWriter.<init>(ParquetOutputWriter.scala:37)\n\tat org.apache.spark.sql.execution.datasources.parquet.ParquetFileFormat$$anon$1.newInstance(ParquetFileFormat.scala:151)\n\tat org.apache.spark.sql.execution.datasources.FileFormatWriter$SingleDirectoryWriteTask.newOutputWriter(FileFormatWriter.scala:367)\n\tat org.apache.spark.sql.execution.datasources.FileFormatWriter$SingleDirectoryWriteTask.execute(FileFormatWriter.scala:378)\n\tat org.apache.spark.sql.execution.datasources.FileFormatWriter$$anonfun$org$apache$spark$sql$execution$datasources$FileFormatWriter$$executeTask$3.apply(FileFormatWriter.scala:269)\n\tat org.apache.spark.sql.execution.datasources.FileFormatWriter$$anonfun$org$apache$spark$sql$execution$datasources$FileFormatWriter$$executeTask$3.apply(FileFormatWriter.scala:267)\n\tat org.apache.spark.util.Utils$.tryWithSafeFinallyAndFailureCallbacks(Utils.scala:1411)\n\tat org.apache.spark.sql.execution.datasources.FileFormatWriter$.org$apache$spark$sql$execution$datasources$FileFormatWriter$$executeTask(FileFormatWriter.scala:272)\n\t... 8 more\n",
     "output_type": "error",
     "traceback": [
      "\u001b[0;31m---------------------------------------------------------------------------\u001b[0m",
      "\u001b[0;31mPy4JJavaError\u001b[0m                             Traceback (most recent call last)",
      "\u001b[0;32m<ipython-input-22-5eeaeb0d4856>\u001b[0m in \u001b[0;36m<module>\u001b[0;34m()\u001b[0m\n\u001b[1;32m      9\u001b[0m \u001b[0;34m\u001b[0m\u001b[0m\n\u001b[1;32m     10\u001b[0m \u001b[0mnew_df\u001b[0m \u001b[0;34m=\u001b[0m \u001b[0m_fix_col_names\u001b[0m\u001b[0;34m(\u001b[0m\u001b[0mt_prev_df\u001b[0m\u001b[0;34m)\u001b[0m\u001b[0;34m\u001b[0m\u001b[0m\n\u001b[0;32m---> 11\u001b[0;31m \u001b[0mnew_df\u001b[0m\u001b[0;34m.\u001b[0m\u001b[0mwrite\u001b[0m\u001b[0;34m.\u001b[0m\u001b[0mparquet\u001b[0m\u001b[0;34m(\u001b[0m\u001b[0;34m\"dicom_data_pqt\"\u001b[0m\u001b[0;34m)\u001b[0m\u001b[0;34m\u001b[0m\u001b[0m\n\u001b[0m",
      "\u001b[0;32m/srv/conda/lib/python3.6/site-packages/pyspark/sql/readwriter.py\u001b[0m in \u001b[0;36mparquet\u001b[0;34m(self, path, mode, partitionBy, compression)\u001b[0m\n\u001b[1;32m    800\u001b[0m             \u001b[0mself\u001b[0m\u001b[0;34m.\u001b[0m\u001b[0mpartitionBy\u001b[0m\u001b[0;34m(\u001b[0m\u001b[0mpartitionBy\u001b[0m\u001b[0;34m)\u001b[0m\u001b[0;34m\u001b[0m\u001b[0m\n\u001b[1;32m    801\u001b[0m         \u001b[0mself\u001b[0m\u001b[0;34m.\u001b[0m\u001b[0m_set_opts\u001b[0m\u001b[0;34m(\u001b[0m\u001b[0mcompression\u001b[0m\u001b[0;34m=\u001b[0m\u001b[0mcompression\u001b[0m\u001b[0;34m)\u001b[0m\u001b[0;34m\u001b[0m\u001b[0m\n\u001b[0;32m--> 802\u001b[0;31m         \u001b[0mself\u001b[0m\u001b[0;34m.\u001b[0m\u001b[0m_jwrite\u001b[0m\u001b[0;34m.\u001b[0m\u001b[0mparquet\u001b[0m\u001b[0;34m(\u001b[0m\u001b[0mpath\u001b[0m\u001b[0;34m)\u001b[0m\u001b[0;34m\u001b[0m\u001b[0m\n\u001b[0m\u001b[1;32m    803\u001b[0m \u001b[0;34m\u001b[0m\u001b[0m\n\u001b[1;32m    804\u001b[0m     \u001b[0;34m@\u001b[0m\u001b[0msince\u001b[0m\u001b[0;34m(\u001b[0m\u001b[0;36m1.6\u001b[0m\u001b[0;34m)\u001b[0m\u001b[0;34m\u001b[0m\u001b[0m\n",
      "\u001b[0;32m/srv/conda/lib/python3.6/site-packages/py4j/java_gateway.py\u001b[0m in \u001b[0;36m__call__\u001b[0;34m(self, *args)\u001b[0m\n\u001b[1;32m   1158\u001b[0m         \u001b[0manswer\u001b[0m \u001b[0;34m=\u001b[0m \u001b[0mself\u001b[0m\u001b[0;34m.\u001b[0m\u001b[0mgateway_client\u001b[0m\u001b[0;34m.\u001b[0m\u001b[0msend_command\u001b[0m\u001b[0;34m(\u001b[0m\u001b[0mcommand\u001b[0m\u001b[0;34m)\u001b[0m\u001b[0;34m\u001b[0m\u001b[0m\n\u001b[1;32m   1159\u001b[0m         return_value = get_return_value(\n\u001b[0;32m-> 1160\u001b[0;31m             answer, self.gateway_client, self.target_id, self.name)\n\u001b[0m\u001b[1;32m   1161\u001b[0m \u001b[0;34m\u001b[0m\u001b[0m\n\u001b[1;32m   1162\u001b[0m         \u001b[0;32mfor\u001b[0m \u001b[0mtemp_arg\u001b[0m \u001b[0;32min\u001b[0m \u001b[0mtemp_args\u001b[0m\u001b[0;34m:\u001b[0m\u001b[0;34m\u001b[0m\u001b[0m\n",
      "\u001b[0;32m/srv/conda/lib/python3.6/site-packages/pyspark/sql/utils.py\u001b[0m in \u001b[0;36mdeco\u001b[0;34m(*a, **kw)\u001b[0m\n\u001b[1;32m     61\u001b[0m     \u001b[0;32mdef\u001b[0m \u001b[0mdeco\u001b[0m\u001b[0;34m(\u001b[0m\u001b[0;34m*\u001b[0m\u001b[0ma\u001b[0m\u001b[0;34m,\u001b[0m \u001b[0;34m**\u001b[0m\u001b[0mkw\u001b[0m\u001b[0;34m)\u001b[0m\u001b[0;34m:\u001b[0m\u001b[0;34m\u001b[0m\u001b[0m\n\u001b[1;32m     62\u001b[0m         \u001b[0;32mtry\u001b[0m\u001b[0;34m:\u001b[0m\u001b[0;34m\u001b[0m\u001b[0m\n\u001b[0;32m---> 63\u001b[0;31m             \u001b[0;32mreturn\u001b[0m \u001b[0mf\u001b[0m\u001b[0;34m(\u001b[0m\u001b[0;34m*\u001b[0m\u001b[0ma\u001b[0m\u001b[0;34m,\u001b[0m \u001b[0;34m**\u001b[0m\u001b[0mkw\u001b[0m\u001b[0;34m)\u001b[0m\u001b[0;34m\u001b[0m\u001b[0m\n\u001b[0m\u001b[1;32m     64\u001b[0m         \u001b[0;32mexcept\u001b[0m \u001b[0mpy4j\u001b[0m\u001b[0;34m.\u001b[0m\u001b[0mprotocol\u001b[0m\u001b[0;34m.\u001b[0m\u001b[0mPy4JJavaError\u001b[0m \u001b[0;32mas\u001b[0m \u001b[0me\u001b[0m\u001b[0;34m:\u001b[0m\u001b[0;34m\u001b[0m\u001b[0m\n\u001b[1;32m     65\u001b[0m             \u001b[0ms\u001b[0m \u001b[0;34m=\u001b[0m \u001b[0me\u001b[0m\u001b[0;34m.\u001b[0m\u001b[0mjava_exception\u001b[0m\u001b[0;34m.\u001b[0m\u001b[0mtoString\u001b[0m\u001b[0;34m(\u001b[0m\u001b[0;34m)\u001b[0m\u001b[0;34m\u001b[0m\u001b[0m\n",
      "\u001b[0;32m/srv/conda/lib/python3.6/site-packages/py4j/protocol.py\u001b[0m in \u001b[0;36mget_return_value\u001b[0;34m(answer, gateway_client, target_id, name)\u001b[0m\n\u001b[1;32m    318\u001b[0m                 raise Py4JJavaError(\n\u001b[1;32m    319\u001b[0m                     \u001b[0;34m\"An error occurred while calling {0}{1}{2}.\\n\"\u001b[0m\u001b[0;34m.\u001b[0m\u001b[0;34m\u001b[0m\u001b[0m\n\u001b[0;32m--> 320\u001b[0;31m                     format(target_id, \".\", name), value)\n\u001b[0m\u001b[1;32m    321\u001b[0m             \u001b[0;32melse\u001b[0m\u001b[0;34m:\u001b[0m\u001b[0;34m\u001b[0m\u001b[0m\n\u001b[1;32m    322\u001b[0m                 raise Py4JError(\n",
      "\u001b[0;31mPy4JJavaError\u001b[0m: An error occurred while calling o263.parquet.\n: org.apache.spark.SparkException: Job aborted.\n\tat org.apache.spark.sql.execution.datasources.FileFormatWriter$.write(FileFormatWriter.scala:224)\n\tat org.apache.spark.sql.execution.datasources.InsertIntoHadoopFsRelationCommand.run(InsertIntoHadoopFsRelationCommand.scala:154)\n\tat org.apache.spark.sql.execution.command.DataWritingCommandExec.sideEffectResult$lzycompute(commands.scala:104)\n\tat org.apache.spark.sql.execution.command.DataWritingCommandExec.sideEffectResult(commands.scala:102)\n\tat org.apache.spark.sql.execution.command.DataWritingCommandExec.doExecute(commands.scala:122)\n\tat org.apache.spark.sql.execution.SparkPlan$$anonfun$execute$1.apply(SparkPlan.scala:131)\n\tat org.apache.spark.sql.execution.SparkPlan$$anonfun$execute$1.apply(SparkPlan.scala:127)\n\tat org.apache.spark.sql.execution.SparkPlan$$anonfun$executeQuery$1.apply(SparkPlan.scala:155)\n\tat org.apache.spark.rdd.RDDOperationScope$.withScope(RDDOperationScope.scala:151)\n\tat org.apache.spark.sql.execution.SparkPlan.executeQuery(SparkPlan.scala:152)\n\tat org.apache.spark.sql.execution.SparkPlan.execute(SparkPlan.scala:127)\n\tat org.apache.spark.sql.execution.QueryExecution.toRdd$lzycompute(QueryExecution.scala:80)\n\tat org.apache.spark.sql.execution.QueryExecution.toRdd(QueryExecution.scala:80)\n\tat org.apache.spark.sql.DataFrameWriter$$anonfun$runCommand$1.apply(DataFrameWriter.scala:654)\n\tat org.apache.spark.sql.DataFrameWriter$$anonfun$runCommand$1.apply(DataFrameWriter.scala:654)\n\tat org.apache.spark.sql.execution.SQLExecution$.withNewExecutionId(SQLExecution.scala:77)\n\tat org.apache.spark.sql.DataFrameWriter.runCommand(DataFrameWriter.scala:654)\n\tat org.apache.spark.sql.DataFrameWriter.saveToV1Source(DataFrameWriter.scala:273)\n\tat org.apache.spark.sql.DataFrameWriter.save(DataFrameWriter.scala:267)\n\tat org.apache.spark.sql.DataFrameWriter.save(DataFrameWriter.scala:225)\n\tat org.apache.spark.sql.DataFrameWriter.parquet(DataFrameWriter.scala:547)\n\tat sun.reflect.NativeMethodAccessorImpl.invoke0(Native Method)\n\tat sun.reflect.NativeMethodAccessorImpl.invoke(NativeMethodAccessorImpl.java:62)\n\tat sun.reflect.DelegatingMethodAccessorImpl.invoke(DelegatingMethodAccessorImpl.java:43)\n\tat java.lang.reflect.Method.invoke(Method.java:498)\n\tat py4j.reflection.MethodInvoker.invoke(MethodInvoker.java:244)\n\tat py4j.reflection.ReflectionEngine.invoke(ReflectionEngine.java:357)\n\tat py4j.Gateway.invoke(Gateway.java:282)\n\tat py4j.commands.AbstractCommand.invokeMethod(AbstractCommand.java:132)\n\tat py4j.commands.CallCommand.execute(CallCommand.java:79)\n\tat py4j.GatewayConnection.run(GatewayConnection.java:214)\n\tat java.lang.Thread.run(Thread.java:748)\nCaused by: org.apache.spark.SparkException: Job aborted due to stage failure: Task 0 in stage 12.0 failed 1 times, most recent failure: Lost task 0.0 in stage 12.0 (TID 96, localhost, executor driver): org.apache.spark.SparkException: Task failed while writing rows.\n\tat org.apache.spark.sql.execution.datasources.FileFormatWriter$.org$apache$spark$sql$execution$datasources$FileFormatWriter$$executeTask(FileFormatWriter.scala:285)\n\tat org.apache.spark.sql.execution.datasources.FileFormatWriter$$anonfun$write$1.apply(FileFormatWriter.scala:197)\n\tat org.apache.spark.sql.execution.datasources.FileFormatWriter$$anonfun$write$1.apply(FileFormatWriter.scala:196)\n\tat org.apache.spark.scheduler.ResultTask.runTask(ResultTask.scala:87)\n\tat org.apache.spark.scheduler.Task.run(Task.scala:109)\n\tat org.apache.spark.executor.Executor$TaskRunner.run(Executor.scala:345)\n\tat java.util.concurrent.ThreadPoolExecutor.runWorker(ThreadPoolExecutor.java:1149)\n\tat java.util.concurrent.ThreadPoolExecutor$Worker.run(ThreadPoolExecutor.java:624)\n\tat java.lang.Thread.run(Thread.java:748)\nCaused by: org.apache.parquet.schema.InvalidSchemaException: Cannot write a schema with an empty group: optional group FrameofReferenceUID {\n}\n\tat org.apache.parquet.schema.TypeUtil$1.visit(TypeUtil.java:27)\n\tat org.apache.parquet.schema.GroupType.accept(GroupType.java:229)\n\tat org.apache.parquet.schema.TypeUtil$1.visit(TypeUtil.java:31)\n\tat org.apache.parquet.schema.TypeUtil$1.visit(TypeUtil.java:37)\n\tat org.apache.parquet.schema.MessageType.accept(MessageType.java:58)\n\tat org.apache.parquet.schema.TypeUtil.checkValidWriteSchema(TypeUtil.java:23)\n\tat org.apache.parquet.hadoop.ParquetFileWriter.<init>(ParquetFileWriter.java:225)\n\tat org.apache.parquet.hadoop.ParquetOutputFormat.getRecordWriter(ParquetOutputFormat.java:342)\n\tat org.apache.parquet.hadoop.ParquetOutputFormat.getRecordWriter(ParquetOutputFormat.java:302)\n\tat org.apache.spark.sql.execution.datasources.parquet.ParquetOutputWriter.<init>(ParquetOutputWriter.scala:37)\n\tat org.apache.spark.sql.execution.datasources.parquet.ParquetFileFormat$$anon$1.newInstance(ParquetFileFormat.scala:151)\n\tat org.apache.spark.sql.execution.datasources.FileFormatWriter$SingleDirectoryWriteTask.newOutputWriter(FileFormatWriter.scala:367)\n\tat org.apache.spark.sql.execution.datasources.FileFormatWriter$SingleDirectoryWriteTask.execute(FileFormatWriter.scala:378)\n\tat org.apache.spark.sql.execution.datasources.FileFormatWriter$$anonfun$org$apache$spark$sql$execution$datasources$FileFormatWriter$$executeTask$3.apply(FileFormatWriter.scala:269)\n\tat org.apache.spark.sql.execution.datasources.FileFormatWriter$$anonfun$org$apache$spark$sql$execution$datasources$FileFormatWriter$$executeTask$3.apply(FileFormatWriter.scala:267)\n\tat org.apache.spark.util.Utils$.tryWithSafeFinallyAndFailureCallbacks(Utils.scala:1411)\n\tat org.apache.spark.sql.execution.datasources.FileFormatWriter$.org$apache$spark$sql$execution$datasources$FileFormatWriter$$executeTask(FileFormatWriter.scala:272)\n\t... 8 more\n\nDriver stacktrace:\n\tat org.apache.spark.scheduler.DAGScheduler.org$apache$spark$scheduler$DAGScheduler$$failJobAndIndependentStages(DAGScheduler.scala:1599)\n\tat org.apache.spark.scheduler.DAGScheduler$$anonfun$abortStage$1.apply(DAGScheduler.scala:1587)\n\tat org.apache.spark.scheduler.DAGScheduler$$anonfun$abortStage$1.apply(DAGScheduler.scala:1586)\n\tat scala.collection.mutable.ResizableArray$class.foreach(ResizableArray.scala:59)\n\tat scala.collection.mutable.ArrayBuffer.foreach(ArrayBuffer.scala:48)\n\tat org.apache.spark.scheduler.DAGScheduler.abortStage(DAGScheduler.scala:1586)\n\tat org.apache.spark.scheduler.DAGScheduler$$anonfun$handleTaskSetFailed$1.apply(DAGScheduler.scala:831)\n\tat org.apache.spark.scheduler.DAGScheduler$$anonfun$handleTaskSetFailed$1.apply(DAGScheduler.scala:831)\n\tat scala.Option.foreach(Option.scala:257)\n\tat org.apache.spark.scheduler.DAGScheduler.handleTaskSetFailed(DAGScheduler.scala:831)\n\tat org.apache.spark.scheduler.DAGSchedulerEventProcessLoop.doOnReceive(DAGScheduler.scala:1820)\n\tat org.apache.spark.scheduler.DAGSchedulerEventProcessLoop.onReceive(DAGScheduler.scala:1769)\n\tat org.apache.spark.scheduler.DAGSchedulerEventProcessLoop.onReceive(DAGScheduler.scala:1758)\n\tat org.apache.spark.util.EventLoop$$anon$1.run(EventLoop.scala:48)\n\tat org.apache.spark.scheduler.DAGScheduler.runJob(DAGScheduler.scala:642)\n\tat org.apache.spark.SparkContext.runJob(SparkContext.scala:2027)\n\tat org.apache.spark.sql.execution.datasources.FileFormatWriter$.write(FileFormatWriter.scala:194)\n\t... 31 more\nCaused by: org.apache.spark.SparkException: Task failed while writing rows.\n\tat org.apache.spark.sql.execution.datasources.FileFormatWriter$.org$apache$spark$sql$execution$datasources$FileFormatWriter$$executeTask(FileFormatWriter.scala:285)\n\tat org.apache.spark.sql.execution.datasources.FileFormatWriter$$anonfun$write$1.apply(FileFormatWriter.scala:197)\n\tat org.apache.spark.sql.execution.datasources.FileFormatWriter$$anonfun$write$1.apply(FileFormatWriter.scala:196)\n\tat org.apache.spark.scheduler.ResultTask.runTask(ResultTask.scala:87)\n\tat org.apache.spark.scheduler.Task.run(Task.scala:109)\n\tat org.apache.spark.executor.Executor$TaskRunner.run(Executor.scala:345)\n\tat java.util.concurrent.ThreadPoolExecutor.runWorker(ThreadPoolExecutor.java:1149)\n\tat java.util.concurrent.ThreadPoolExecutor$Worker.run(ThreadPoolExecutor.java:624)\n\t... 1 more\nCaused by: org.apache.parquet.schema.InvalidSchemaException: Cannot write a schema with an empty group: optional group FrameofReferenceUID {\n}\n\tat org.apache.parquet.schema.TypeUtil$1.visit(TypeUtil.java:27)\n\tat org.apache.parquet.schema.GroupType.accept(GroupType.java:229)\n\tat org.apache.parquet.schema.TypeUtil$1.visit(TypeUtil.java:31)\n\tat org.apache.parquet.schema.TypeUtil$1.visit(TypeUtil.java:37)\n\tat org.apache.parquet.schema.MessageType.accept(MessageType.java:58)\n\tat org.apache.parquet.schema.TypeUtil.checkValidWriteSchema(TypeUtil.java:23)\n\tat org.apache.parquet.hadoop.ParquetFileWriter.<init>(ParquetFileWriter.java:225)\n\tat org.apache.parquet.hadoop.ParquetOutputFormat.getRecordWriter(ParquetOutputFormat.java:342)\n\tat org.apache.parquet.hadoop.ParquetOutputFormat.getRecordWriter(ParquetOutputFormat.java:302)\n\tat org.apache.spark.sql.execution.datasources.parquet.ParquetOutputWriter.<init>(ParquetOutputWriter.scala:37)\n\tat org.apache.spark.sql.execution.datasources.parquet.ParquetFileFormat$$anon$1.newInstance(ParquetFileFormat.scala:151)\n\tat org.apache.spark.sql.execution.datasources.FileFormatWriter$SingleDirectoryWriteTask.newOutputWriter(FileFormatWriter.scala:367)\n\tat org.apache.spark.sql.execution.datasources.FileFormatWriter$SingleDirectoryWriteTask.execute(FileFormatWriter.scala:378)\n\tat org.apache.spark.sql.execution.datasources.FileFormatWriter$$anonfun$org$apache$spark$sql$execution$datasources$FileFormatWriter$$executeTask$3.apply(FileFormatWriter.scala:269)\n\tat org.apache.spark.sql.execution.datasources.FileFormatWriter$$anonfun$org$apache$spark$sql$execution$datasources$FileFormatWriter$$executeTask$3.apply(FileFormatWriter.scala:267)\n\tat org.apache.spark.util.Utils$.tryWithSafeFinallyAndFailureCallbacks(Utils.scala:1411)\n\tat org.apache.spark.sql.execution.datasources.FileFormatWriter$.org$apache$spark$sql$execution$datasources$FileFormatWriter$$executeTask(FileFormatWriter.scala:272)\n\t... 8 more\n"
     ]
    }
   ],
   "source": [
    "def _fix_col_names(t_prev_df):\n",
    "    new_df = t_prev_df\n",
    "    for col in t_prev_df.columns:\n",
    "        new_col = col\n",
    "        for fix_chr in ' ,;{}()\\n\\t=':\n",
    "            new_col = \"\".join(new_col.split(fix_chr))\n",
    "        new_df = new_df.withColumnRenamed(col, new_col)\n",
    "    return new_df\n",
    "\n",
    "new_df = _fix_col_names(t_prev_df)"
   ]
  },
  {
   "cell_type": "code",
   "execution_count": 23,
   "metadata": {},
   "outputs": [],
   "source": [
    "new_df.write.json(\"dicom_data_json\")"
   ]
  },
  {
   "cell_type": "code",
   "execution_count": 24,
   "metadata": {},
   "outputs": [],
   "source": [
    "new_df.registerTempTable(\"NewTable\")"
   ]
  },
  {
   "cell_type": "code",
   "execution_count": 25,
   "metadata": {},
   "outputs": [
    {
     "name": "stdout",
     "output_type": "stream",
     "text": [
      "== Physical Plan ==\n",
      "CollectLimit 5\n",
      "+- *(2) LocalLimit 5\n",
      "   +- *(2) Project [pythonUDF0#14275 AS Preview4Q#14023]\n",
      "      +- BatchEvalPython [_np_to_uri(<lambda>(DICOMPath4Q#79))], [DICOMPath4Q#79, pythonUDF0#14275]\n",
      "         +- *(1) Project [DICOMPath4Q#79]\n",
      "            +- Scan ExistingRDD[Accession Number#0,Acquisition Date#1,Acquisition Number#2L,Acquisition Time#3,Additional Patient History#4,Bits Allocated#5L,Bits Stored#6L,Body Part Examined#7,Code Meaning#8,Code Value#9,Coding Scheme Designator#10,Columns#11L,Content Date#12,Content Time#13,Convolution Kernel#14,Data Collection Diameter#15,De-identification Method#16,De-identification Method Code Sequence#17,Distance Source to Detector#18,Distance Source to Patient#19,Exposure#20L,Exposure Time#21L,Filter Type#22,Focal Spot(s)#23,... 56 more fields]\n"
     ]
    }
   ],
   "source": [
    "n_qry = sqlContext.sql(\"\"\"\n",
    "SELECT Preview4Q FROM NewTable LIMIT 5\n",
    "\"\"\")\n",
    "n_qry.explain()"
   ]
  },
  {
   "cell_type": "code",
   "execution_count": 26,
   "metadata": {
    "scrolled": false
   },
   "outputs": [
    {
     "data": {
      "text/html": [
       "<img src=\"data:image/png;base64,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\" width = \"100px\" height = \"100px\" />"
      ],
      "text/plain": [
       "<IPython.core.display.HTML object>"
      ]
     },
     "execution_count": 26,
     "metadata": {},
     "output_type": "execute_result"
    }
   ],
   "source": [
    "display_uri(n_qry.toPandas()['Preview4Q'])"
   ]
  },
  {
   "cell_type": "markdown",
   "metadata": {},
   "source": [
    "# Basic DICOM Tags"
   ]
  },
  {
   "cell_type": "code",
   "execution_count": 29,
   "metadata": {},
   "outputs": [
    {
     "name": "stdout",
     "output_type": "stream",
     "text": [
      "dict_keys(['De-identification Method Code Sequence', 'Frame of Reference UID', 'Image Orientation (Patient)', 'Image Position (Patient)', 'Image Type', \"Patient's Name\", 'Pixel Data', 'Pixel Spacing', 'Private tag data', 'Procedure Code Sequence', \"Referring Physician's Name\", 'SOP Class UID', 'SOP Instance UID', 'Series Instance UID', 'Study Instance UID', '[Angle of first view]', '[Biopsy T location]', '[Biopsy position]', '[Biopsy ref location]', '[Cell number at Theta]', '[Cell spacing]', '[Center A coord of plane image]', '[Center R coord of plane image]', '[Center S coord of plane image]', '[Corrected after glow terms]', '[DAS ad input]', '[DAS cal mode]', '[DAS fpa gain]', '[DAS gain]', '[DAS output source]', '[DAS trigger source]', '[DAS type]', '[Degree of rotation]', '[Delta Start Time [msec]]', '[Dependent on #views processed]', '[Detector Channel]', '[Duration of X-ray on]', '[First scan ras]', '[Horiz. Frame of ref.]', '[Image Filter]', '[Image from which prescribed]', '[Iterbone Flag]', '[Last scan ras]', '[Macro width at ISO Center]', '[Max overranges in a view]', '[Maximum Offset Value]', '[Mean Z error]', '[Mid Scan Time [sec]]', '[Mid scan flag]', '[Minimum DAS value]', '[No views ref chans blocked]', '[NoiseReductionImageFilterDesc]', '[Normal A coord]', '[Normal R coord]', '[Normal S coord]', '[Number Views 2B]', '[Number of Macro Rows in Detector]', '[Number of Views 1A]', '[Number of Views 1B]', '[Number of Views 2A]', '[Number of Views shifted]', '[Number of overranges]', '[Number of triggers]', '[Perisstaltic Flag]', '[Plane Type]', '[Private Scan Options]', '[Product id]', '[Recon Center Coordinates]', '[Recon post proc. Flag]', '[Reference channels]', '[Rotation Speed [msec]]', '[SFOV Type]', '[Scan End Location]', '[Scan Pitch Ratio]', '[Scan Start Location]', '[Scout Type]', '[Segment Number]', '[Series contrast]', '[Series from which Prescribed]', '[Series from which prescribed]', '[Sigma Mode]', '[Sigma Row number]', '[Smart scan ON/OFF flag]', '[Start View 1A]', '[Start View 1B]', '[Start View 2A]', '[Start View 2B]', '[Start scan to X-ray on delay]', '[Suite id]', '[Table Direction]', '[Table Speed [mm/rotation]]', '[TemporalResolution]', '[Total Segments Required]', '[Trigger frequency]', '[Trigger on position]', '[Tube Azimuth [degree]]', '[View Weighting Mode]', '[View compression factor]', '[Vma clip]', '[Vma mamp]', '[Vma mod]', '[Window value]', '[X-ray chain]', '[Z smoothing Factor]', '[Z tracking Error]', '[Z tracking Flag]'])\n"
     ]
    }
   ],
   "source": [
    "good_dict, bad_dict, vkeys = dicom_to_dict(temp_dicom)\n",
    "#bad_dict.values()\n",
    "print(bad_dict.keys())"
   ]
  },
  {
   "cell_type": "code",
   "execution_count": 31,
   "metadata": {},
   "outputs": [
    {
     "name": "stdout",
     "output_type": "stream",
     "text": [
      "Complex Field type_info(inferrable=True, realtype=StructType(List()), has_nulltype=False, length=64, is_complex=True)\n"
     ]
    }
   ],
   "source": [
    "print('Complex Field', vkeys['Frame of Reference UID'])"
   ]
  },
  {
   "cell_type": "code",
   "execution_count": 32,
   "metadata": {},
   "outputs": [],
   "source": [
    "full_dicom_list = dicoms_to_dict([dicom_simple_read(in_path, stop_before_pixels=True) for in_path in c_files])"
   ]
  },
  {
   "cell_type": "code",
   "execution_count": null,
   "metadata": {},
   "outputs": [],
   "source": []
  },
  {
   "cell_type": "code",
   "execution_count": null,
   "metadata": {},
   "outputs": [],
   "source": []
  }
 ],
 "metadata": {
  "kernelspec": {
   "display_name": "Python 3",
   "language": "python",
   "name": "python3"
  },
  "language_info": {
   "codemirror_mode": {
    "name": "ipython",
    "version": 3
   },
   "file_extension": ".py",
   "mimetype": "text/x-python",
   "name": "python",
   "nbconvert_exporter": "python",
   "pygments_lexer": "ipython3",
   "version": "3.6.5"
  }
 },
 "nbformat": 4,
 "nbformat_minor": 1
}
