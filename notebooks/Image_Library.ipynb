{
 "cells": [
  {
   "cell_type": "markdown",
   "metadata": {},
   "source": [
    "# Image Library Tools\n",
    "\n",
    "For use with a Pyspark backend (or fakespark, not fully supported yet)\n",
    "\n",
    "Use of notebooks in spark requires appropriate environment variables to be set\n",
    "\n",
    "```bash\n",
    "PYSPARK_DRIVER_PYTHON=jupyter PYSPARK_DRIVER_PYTHON_OPTS=notebook PYSPARK_PYTHON=/Users/mader/anaconda/bin/python /Volumes/ExDisk/spark-2.0.0-bin-hadoop2.7/bin/pyspark\n",
    "```"
   ]
  },
  {
   "cell_type": "code",
   "execution_count": 1,
   "metadata": {},
   "outputs": [],
   "source": [
    "from pyspark import SparkContext\n",
    "from pyspark.sql import SQLContext\n",
    "sc = SparkContext(appName = 'ImgLib')\n",
    "sqlContext = SQLContext(sc)"
   ]
  },
  {
   "cell_type": "code",
   "execution_count": 3,
   "metadata": {},
   "outputs": [],
   "source": [
    "from pyqae import PyqaeContext"
   ]
  },
  {
   "cell_type": "code",
   "execution_count": 4,
   "metadata": {},
   "outputs": [
    {
     "data": {
      "text/plain": [
       "('file:/home/jovyan/test/resources/singlelayer_png/dot2_grey.png', (70, 75))"
      ]
     },
     "execution_count": 4,
     "metadata": {},
     "output_type": "execute_result"
    }
   ],
   "source": [
    "pq_context = PyqaeContext(sc)\n",
    "im_files = pq_context.readImageDirectory('../test/resources/singlelayer_png/*.png')\n",
    "im_files.mapValues(lambda x: x.shape).first()"
   ]
  },
  {
   "cell_type": "code",
   "execution_count": 5,
   "metadata": {},
   "outputs": [
    {
     "data": {
      "text/plain": [
       "[('file:/home/jovyan/test/resources/singlelayer_png/dot2_grey.png',\n",
       "  array([[239, 239, 239, ..., 239, 239, 239],\n",
       "         [239, 239, 239, ..., 239, 239, 239],\n",
       "         [239, 239, 239, ..., 239, 239, 239],\n",
       "         ...,\n",
       "         [239, 239, 239, ..., 239, 239, 239],\n",
       "         [239, 239, 239, ..., 239, 239, 239],\n",
       "         [239, 239, 239, ..., 239, 239, 239]], dtype=uint8))]"
      ]
     },
     "execution_count": 5,
     "metadata": {},
     "output_type": "execute_result"
    }
   ],
   "source": [
    "im_files.take(1)"
   ]
  },
  {
   "cell_type": "code",
   "execution_count": 6,
   "metadata": {},
   "outputs": [],
   "source": [
    "if False:\n",
    "    d_table = pq_context.imageTableToDataFrame(im_files)\n",
    "    d_table"
   ]
  },
  {
   "cell_type": "code",
   "execution_count": 7,
   "metadata": {},
   "outputs": [],
   "source": [
    "if False:\n",
    "    pq_context2 = PyqaeContext(sc)\n",
    "    df_files = pq_context2.readImageDataFrame('/Volumes/WinDisk/openi_db_path.csv',\n",
    "                             'local_path', im_path_prefix = '/Volumes/WinDisk/', \n",
    "                                              n_partitions = 2000,\n",
    "                                              sqlContext = sqlContext)\n",
    "    f_row = df_files.first()\n",
    "\n",
    "    df_files"
   ]
  },
  {
   "cell_type": "code",
   "execution_count": null,
   "metadata": {},
   "outputs": [],
   "source": [
    "if False:\n",
    "    # save the table as parquet\n",
    "    df_files.withColumnRenamed('Unnamed: 0','id').write.parquet(\"/Volumes/WinDisk/full_open_db.pqt\")\n",
    "    # save the table as parquet\n",
    "    df_files.withColumnRenamed('Unnamed: 0','id').sample(False, 0.1).write.parquet(\"/Volumes/WinDisk/small_open_db.pqt\")"
   ]
  },
  {
   "cell_type": "code",
   "execution_count": null,
   "metadata": {},
   "outputs": [],
   "source": [
    "if False:\n",
    "    pq_context3 = PyqaeContext(sc)\n",
    "    dcm_files = pq_context3.readDicomDirectory('../test/resources/dicom/*.dcm')\n",
    "    dcm_files.take(2)"
   ]
  },
  {
   "cell_type": "code",
   "execution_count": null,
   "metadata": {},
   "outputs": [],
   "source": [
    "sc.stop()"
   ]
  },
  {
   "cell_type": "code",
   "execution_count": null,
   "metadata": {},
   "outputs": [],
   "source": []
  }
 ],
 "metadata": {
  "kernelspec": {
   "display_name": "Python 3",
   "language": "python",
   "name": "python3"
  },
  "language_info": {
   "codemirror_mode": {
    "name": "ipython",
    "version": 3
   },
   "file_extension": ".py",
   "mimetype": "text/x-python",
   "name": "python",
   "nbconvert_exporter": "python",
   "pygments_lexer": "ipython3",
   "version": "3.6.5"
  }
 },
 "nbformat": 4,
 "nbformat_minor": 1
}
