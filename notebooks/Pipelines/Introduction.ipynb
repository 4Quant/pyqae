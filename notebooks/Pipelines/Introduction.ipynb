{
 "cells": [
  {
   "cell_type": "markdown",
   "metadata": {},
   "source": [
    "# Introduction\n",
    "Here we make pipelines using a combination of numpy arrays and operators with parameters. The pipelines are validated using simple test images."
   ]
  },
  {
   "cell_type": "code",
   "execution_count": 7,
   "metadata": {
    "collapsed": false
   },
   "outputs": [],
   "source": [
    "import numpy as np\n",
    "from collections import namedtuple\n",
    "_ptup = namedtuple('Parameter', ['parm_name', 'parm_value'])\n",
    "_argstup = namedtuple('Argument', ['arg_name', 'arg_shape', 'arg_dtype'])\n",
    "_optup = namedtuple('Operator',['op_name', 'op_function',\n",
    "                              'op_in_args', 'op_out_args', \n",
    "                                'op_parameters'])\n",
    "class Pipeline(object):\n",
    "    pass\n",
    "class Argument(_argstup):\n",
    "    pass\n",
    "class Operator(_optup):\n",
    "    def apply(self, **kwargs):\n",
    "        self.op_function(**kwargs)\n",
    "        \n",
    "    pass\n",
    "class Parameter(_ptup):\n",
    "    pass        "
   ]
  },
  {
   "cell_type": "code",
   "execution_count": 25,
   "metadata": {
    "collapsed": true
   },
   "outputs": [],
   "source": [
    "class ThresholdOp(Operator):\n",
    "    def __new__(cls, thresh_value):\n",
    "        self = super(ThresholdOp, cls).__new__(cls,op_name = 'Threshold',\n",
    "                        op_function = cls.apply_thresh, \n",
    "                         op_in_args = [Argument('InputImage', None, np.float64)],\n",
    "                         op_out_args = [Argument('OutputImage', None, np.bool)],\n",
    "                         op_parameters = [Parameter('threshold_value', thresh_value)])\n",
    "        return self\n",
    "    @staticmethod\n",
    "    def apply_thresh(self, InputImage, threshold_value):\n",
    "        return {'OutputImage': InputImage>threshold_value}        "
   ]
  },
  {
   "cell_type": "code",
   "execution_count": 27,
   "metadata": {
    "collapsed": false
   },
   "outputs": [],
   "source": [
    "tOp = ThresholdOp(5)"
   ]
  },
  {
   "cell_type": "code",
   "execution_count": 28,
   "metadata": {
    "collapsed": true
   },
   "outputs": [],
   "source": [
    "import pandas as pd"
   ]
  },
  {
   "cell_type": "code",
   "execution_count": 30,
   "metadata": {
    "collapsed": false
   },
   "outputs": [],
   "source": [
    "f = pd.DataFrame([{'a': 0}])"
   ]
  },
  {
   "cell_type": "code",
   "execution_count": 31,
   "metadata": {
    "collapsed": true
   },
   "outputs": [],
   "source": [
    "?f.to_csv"
   ]
  },
  {
   "cell_type": "code",
   "execution_count": null,
   "metadata": {
    "collapsed": true
   },
   "outputs": [],
   "source": []
  }
 ],
 "metadata": {
  "anaconda-cloud": {},
  "kernelspec": {
   "display_name": "Python [default]",
   "language": "python",
   "name": "python3"
  },
  "language_info": {
   "codemirror_mode": {
    "name": "ipython",
    "version": 3
   },
   "file_extension": ".py",
   "mimetype": "text/x-python",
   "name": "python",
   "nbconvert_exporter": "python",
   "pygments_lexer": "ipython3",
   "version": "3.5.2"
  }
 },
 "nbformat": 4,
 "nbformat_minor": 1
}
